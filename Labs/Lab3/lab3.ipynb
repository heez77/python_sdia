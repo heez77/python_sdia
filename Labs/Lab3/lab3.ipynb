{
 "cells": [
  {
   "cell_type": "markdown",
   "metadata": {},
   "source": [
    "# Practical session 3 - Brownian motion, Fourier transform\n",
    "\n",
    "Students (pair):\n",
    "- [Jérémy Jean](https://github.com/heez77)\n",
    "- [Maxime Gey](https://github.com/Purjack)"
   ]
  },
  {
   "cell_type": "code",
   "execution_count": null,
   "metadata": {},
   "outputs": [],
   "source": [
    "%load_ext autoreload\n",
    "%autoreload 2"
   ]
  },
  {
   "cell_type": "code",
   "execution_count": null,
   "metadata": {},
   "outputs": [],
   "source": [
    "import os\n",
    "\n",
    "if not os.path.isdir('figures'):\n",
    "    os.mkdir('figures')"
   ]
  },
  {
   "cell_type": "markdown",
   "metadata": {},
   "source": [
    "## <a> name=\"ex1\"Exercise 1: Brownian motion</a>\n",
    "\n",
    "This first exercise consists in generating a Brownian motion on the closed unit ball $\\mathcal{B}(\\mathbf{0}, 1) = \\{ \\mathbf{x} \\mid \\Vert \\mathbf{x} \\Vert  \\leq 1\\}$, focusing first on the 2-D case. The Brownian motion is a random walk with independent, identically distributed Gaussian increments, appearing for instance in thermodynamics and statistical mechanics (to model the evolution of a large particle in a medium composed of a large number of small particles, ...). It is also connected to the diffusion process (Einstein).\n",
    "\n",
    "Let $N \\in \\mathbb{N}^*$, $\\delta  0$, and $\\mathbf{x} = (x_1, x_2) \\in  \\mathcal{B}(\\mathbf{0}, 1)$. The first $N$ steps of a 2-D discrete-time Brownian motion $W$ can be generated as follows\n",
    "\n",
    "\\begin{align*}\n",
    "    W_0 &= \\mathbf{x}, \\\\\n",
    "    %\n",
    "    (\\forall n \\in \\{1, \\dotsc, N-1 \\}), \\quad W_n &= W_{n−1} + \\sqrt{\\delta} G_n, \\quad G_n \\sim \\mathcal{N}(\\mathbf{0}, \\mathbf{I}),\n",
    "\\end{align*}\n",
    "\n",
    "where $\\mathcal{N}(\\mathbf{0}, \\mathbf{I})$ is a Gaussian distribution with mean $\\mathbf{0}$ and identity covariance matrix.\n",
    "\n",
    "1. Define a random generator `rng`, set to a known state for reproducibility (see session 2)."
   ]
  },
  {
   "cell_type": "markdown",
   "metadata": {},
   "source": [
    "**Answer:**"
   ]
  },
  {
   "cell_type": "code",
   "execution_count": null,
   "metadata": {},
   "outputs": [],
   "source": [
    "# your code\n",
    "import numpy as np\n",
    "rng = np.random.default_rng(84548)"
   ]
  },
  {
   "cell_type": "markdown",
   "metadata": {},
   "source": [
    "2. Implement a function `brownian_motion(niter, x, step, rng)` which\n",
    "\n",
    "    - simulates $W$ until it reaches the boundary of $\\mathcal{B}(\\mathbf{0}, 1)$, using a maximum of $N$ iterations (`niter`), a starting point $\\mathbf{x} \\in \\mathcal{B}(\\mathbf{0}, 1)$ (`x`) and step-size $\\delta$ (`step`);\n",
    "    - interpolates linearly between the two last positions to determine the points $W^*$ where the trajectory crosses the boundary (if applicable);\n",
    "    - returns both the whole random walk $W$ and, if appropriate, the point at the intersection between the last segment of the trajectory and $\\mathcal{B}(\\mathbf{0}, 1)$.\n",
    " \n",
    " Hint: \n",
    " - you can easily derive a closed form expression for $W^*$, observing that $\\Vert W^* \\Vert^2= 1$ and $W^* \\in [W_{n-1}, W_n]$. \n",
    " - you can also take a look at [`np.roots`](https://numpy.org/doc/stable/reference/generated/numpy.roots.html?highlight=roots#numpy.roots) if needed."
   ]
  },
  {
   "cell_type": "markdown",
   "metadata": {},
   "source": [
    "**Answer:**"
   ]
  },
  {
   "cell_type": "code",
   "execution_count": null,
   "metadata": {},
   "outputs": [],
   "source": [
    "# your code\n",
    "from sympy import symbols, Eq, solve\n",
    "\n",
    "def wedge(v: np.ndarray, w: np.ndarray) -> float:\n",
    "    \"\"\"Check if two vectors are collinear (returns 0 if they are)\n",
    "\n",
    "    Args:\n",
    "        v (np.ndarray): array\n",
    "        w (np.ndarray): array\n",
    "\n",
    "    Returns:\n",
    "        float: v[0]*w[1] - v[1]*w[0]\n",
    "    \"\"\"\n",
    "    return v[0] * w[1] - v[1] * w[0]\n",
    "\n",
    "\n",
    "def is_between(a:np.ndarray,b:np.ndarray,c:np.ndarray)->bool:\n",
    "    \"\"\"Returns True if b is between a and c otherwise returns False\n",
    "\n",
    "    Args:\n",
    "        a (np.ndarray): lower bound\n",
    "        b (np.ndarray): point of interest\n",
    "        c (np.ndarray): upper bound\n",
    "\n",
    "    Returns:\n",
    "        bool: True if b is is between a and c otherwise False\n",
    "    \"\"\"\n",
    "    v = a - b\n",
    "    w = b - c\n",
    "    return bool(abs(wedge(v,w)) <= 10e-6 and v.T @ w > 0)\n",
    "\n",
    "\n",
    "def brownian_motion(niter:int, x:np.ndarray, step:float, rng:np.random._generator.Generator)->np.ndarray:\n",
    "    \"\"\"The Brownian motion is a random walk with independent, identically distributed Gaussian increments, appearing for instance in thermodynamics and statistical mechanics (to model the evolution of a large particle in a medium composed of a large number of small particles, ...). It is also connected to the diffusion process (Einstein).\n",
    "    generating a Brownian motion on the closed unit ball $\\mathcal{B}(\\mathbf{0}, 1) = \\{ \\mathbf{x} \\mid \\Vert \\mathbf{x} \\Vert  \\leq 1\\}$\n",
    "\n",
    "    Args:\n",
    "        niter (int): Maximum of iterations\n",
    "        x (np.ndarray): Starting point in the ball\n",
    "        step (float): Step-size\n",
    "        rng (numpy.random._generator.Generator): Random generator\n",
    "\n",
    "    Returns:\n",
    "        np.ndarray: Trajectory of the random walk\n",
    "    \"\"\"\n",
    "    n=0\n",
    "    W = x\n",
    "    W_list = [W]\n",
    "    assert step>0, \"step must be strictly positive\"\n",
    "    while n<niter and (W.T@W<1):\n",
    "        n+=1\n",
    "        W = W+np.sqrt(step)*np.random.multivariate_normal([0 for _ in range(x.shape[0])], np.identity(x.shape[0]))\n",
    "        if W.T@W==1:\n",
    "            W_list.append(W)\n",
    "            break\n",
    "        elif W.T@W<1:\n",
    "            W_list.append(W)\n",
    "        else:\n",
    "            x, y = symbols('x y')\n",
    "\n",
    "            eq1 = Eq(x**2 + y**2,1)\n",
    "            a = (W[1] - W_list[-1][1])/(W[0] - W_list[-1][0])\n",
    "            b = W[1] - a*W[0]\n",
    "            eq2 = Eq(a*x + b, y)\n",
    "            sol_dict = solve((eq1,eq2), (x, y)) \n",
    "            if len(sol_dict)==1:\n",
    "                W_list.append(sol_dict[0])\n",
    "            else:    \n",
    "                sol_one = np.array(sol_dict[0])\n",
    "                sol_two = np.array(sol_dict[1])\n",
    "                if  is_between(W_list[-1], sol_one, W):\n",
    "                    W_list.append(sol_one)   \n",
    "                else:\n",
    "                    W_list.append(sol_two)\n",
    "    return np.stack(W_list, axis=0)"
   ]
  },
  {
   "cell_type": "markdown",
   "metadata": {},
   "source": [
    "We implement tests :"
   ]
  },
  {
   "cell_type": "code",
   "execution_count": null,
   "metadata": {},
   "outputs": [],
   "source": [
    "import unittest\n",
    "\n",
    "class Test_TestWedge(unittest.TestCase):\n",
    "    def test_wedge_type(self):\n",
    "        rng = np.random.default_rng(84548)\n",
    "        v = rng.random((2,))\n",
    "        w = rng.random((2,))\n",
    "        self.assertIsInstance(wedge(v, w), float)\n",
    "    def test_wedge_self(self):\n",
    "        rng = np.random.default_rng(84548)\n",
    "        v = rng.random((2,))\n",
    "        c = rng.integers(low=1, high=100, size=1)[0]\n",
    "        self.assertEqual(wedge(c*v, v), 0)\n",
    "\n",
    "\n",
    "\n",
    "class Test_TestIsBetween(unittest.TestCase):\n",
    "    def test_isbetween_type(self):\n",
    "        rng = np.random.default_rng(84548)\n",
    "        N = 2\n",
    "        a = rng.random((N,))\n",
    "        b = rng.random((N,))\n",
    "        c = rng.random((N,))\n",
    "        self.assertIsInstance(is_between(a, b, c), bool)\n",
    "    \n",
    "    def test_isbetween_true(self):\n",
    "        a = np.array([0,0])\n",
    "        b = np.array([0.5,0.5])\n",
    "        c =  np.array([1,1])\n",
    "        self.assertEqual(is_between(a, b, c), True)\n",
    "    \n",
    "    def test_isbetween_false(self):\n",
    "        a = np.array([0,0])\n",
    "        b = np.array([0.5,2])\n",
    "        c =  np.array([1,1])\n",
    "        self.assertEqual(is_between(a, b, c), False)\n",
    "\n",
    "class Test_TestBrownianMotion(unittest.TestCase):\n",
    "    def test_brownian_motion_type(self):\n",
    "        rng = np.random.default_rng(84548)\n",
    "        niter = rng.integers(low=500, high=1000, size=1)[0]\n",
    "        step = (10e-2 - 10e-6)*rng.random() + 10e-6\n",
    "        x = np.array([0.2,0.4])\n",
    "        self.assertIsInstance(\n",
    "            brownian_motion(niter, x, step, rng), np.ndarray\n",
    "        )\n",
    "    def test_brownian_motion_in_ball(self):\n",
    "        \"\"\" Test if all of the points are in the ball\"\"\"\n",
    "        rng = np.random.default_rng(84548)\n",
    "        niter = rng.integers(low=500, high=1000, size=1)[0]\n",
    "        step = (10e-2 - 10e-6)*rng.random() + 10e-6\n",
    "        x = np.array([0.2,0.4])\n",
    "        list_points =  brownian_motion(niter, x, step, rng)\n",
    "        self.assertEqual(False not in (1-np.diagonal(list_points @ list_points.T) >= np.zeros(list_points.shape[0])), True)\n",
    "        \n",
    "    def test_brownian_motion_last_point_(self):\n",
    "        \"\"\" Test if the last point intersect the ball\"\"\"\n",
    "        rng = np.random.default_rng(84548)\n",
    "        niter = rng.integers(low=500, high=1000, size=1)[0]\n",
    "        step = (10e-2 - 10e-6)*rng.random() + 10e-6\n",
    "        x = np.array([0.2,0.4])\n",
    "        list_points =  brownian_motion(niter, x, step, rng)\n",
    "        self.assertLessEqual(np.abs(1-list_points[-1,:].T @ list_points[-1,:]), 10e-6)\n"
   ]
  },
  {
   "cell_type": "markdown",
   "metadata": {},
   "source": [
    "3. Diplay the trajectory of a Brownian motion starting from $\\mathbf{x} = (0.2, 0.4)$, using $\\delta = 10^{-2}$, $N = 1000$. Display the unit circle on the same figure, and highlight the intersection with the boundary of the domain (whenever it exists).\n",
    "\n",
    "> Hint: to draw the unit disk, you can use for instance:\n",
    "> ```python\n",
    "> circle = plt.Circle((0,0), 1)\n",
    "> fig, ax = plt.subplots()\n",
    "> plt.xlim(-1.25,1.25)\n",
    "> plt.ylim(-1.25,1.25)\n",
    "> plt.grid(linestyle = \"--\", zorder = 1)\n",
    "> ax.set_aspect(1)\n",
    "> ax.add_artist(circle)\n",
    "> ```"
   ]
  },
  {
   "cell_type": "markdown",
   "metadata": {},
   "source": [
    "**Answer:**"
   ]
  },
  {
   "cell_type": "code",
   "execution_count": null,
   "metadata": {},
   "outputs": [],
   "source": [
    "niter = 1000\n",
    "step = 10e-2\n",
    "x = np.array([0.2,0.4])\n",
    "\n",
    "list_points = brownian_motion(niter, x, step, rng)"
   ]
  },
  {
   "cell_type": "code",
   "execution_count": null,
   "metadata": {},
   "outputs": [],
   "source": [
    "import matplotlib.pyplot as plt\n",
    "circle = plt.Circle((0,0), 1)\n",
    "fig, ax = plt.subplots()\n",
    "plt.xlim(-1.25,1.25)\n",
    "plt.ylim(-1.25,1.25)\n",
    "plt.grid(linestyle = \"--\", zorder = 1)\n",
    "plt.gca().add_patch(circle)\n",
    "ax.set_aspect(1)\n",
    "ax.plot(list_points[:,0], list_points[:,1], 'o--', lw=2, color='black', ms=5)\n",
    "plt.xlabel('x')\n",
    "plt.ylabel('y')\n",
    "plt.title('Brownian movement in B(0,1)')\n",
    "fig.savefig(\"figures/brownian_motion_1000_0.01.png\")"
   ]
  },
  {
   "cell_type": "markdown",
   "metadata": {},
   "source": [
    "4. Represent, on the same figure, 4 other trajectories of $W$ with the same parameters."
   ]
  },
  {
   "cell_type": "markdown",
   "metadata": {},
   "source": [
    "**Answer:**"
   ]
  },
  {
   "cell_type": "code",
   "execution_count": null,
   "metadata": {},
   "outputs": [],
   "source": [
    "trajectories = [list_points] + [brownian_motion(niter,x, step, rng) for _ in range(4)]\n",
    "circle = plt.Circle((0,0), 1)\n",
    "fig, ax = plt.subplots()\n",
    "plt.xlim(-1.25,1.25)\n",
    "plt.ylim(-1.25,1.25)\n",
    "plt.grid(linestyle = \"--\", zorder = 1)\n",
    "plt.gca().add_patch(circle)\n",
    "ax.set_aspect(1)\n",
    "colors = ['black', 'red', 'green', 'pink', 'white']\n",
    "for i in range(5):\n",
    "    ax.plot(trajectories[i][:,0], trajectories[i][:,1], 'o-', lw=2, color=colors[i], ms=5)\n",
    "fig.savefig(\"figures/brownian_motion_5_trajectories.png\")"
   ]
  },
  {
   "cell_type": "markdown",
   "metadata": {},
   "source": [
    "5. [Bonus] Generalize the procedure to a $M$-dimensional Brownian motion, $M  2$."
   ]
  },
  {
   "cell_type": "markdown",
   "metadata": {},
   "source": [
    "**Answer:**"
   ]
  },
  {
   "cell_type": "code",
   "execution_count": null,
   "metadata": {},
   "outputs": [],
   "source": [
    "# your code"
   ]
  },
  {
   "cell_type": "markdown",
   "metadata": {},
   "source": [
    "---\n",
    "## <a> name=\"ex2\"Exercise 2: 2D Fourier transform, ideal low-pass filter and linear convolution</a>\n",
    "\n",
    "In this exercise, we explore the use of the 2-dimensional Fourier transform to filter an image, and convolve it with a blurring kernel.\n",
    "\n",
    "1\\. Load and display one of the images contained in the `img/` folder. The image will be denoted by $\\mathbf{X} \\in \\mathbb{R}^{M_1 \\times N_1}$ in the rest of this exercise."
   ]
  },
  {
   "cell_type": "markdown",
   "metadata": {},
   "source": [
    "**Answer:**"
   ]
  },
  {
   "cell_type": "code",
   "execution_count": null,
   "metadata": {},
   "outputs": [],
   "source": [
    "# your code\n",
    "import matplotlib.pyplot as plt\n",
    "\n",
    "img = plt.imread('img/boat.png', 0)\n",
    "plt.imshow(img)"
   ]
  },
  {
   "cell_type": "code",
   "execution_count": null,
   "metadata": {},
   "outputs": [],
   "source": [
    "from PIL import Image\n",
    "image = Image.open(\"img/boat.png\")\n",
    "gray_img = image.convert(\"L\")\n",
    "plt.imshow(gray_img, cmap='gray')"
   ]
  },
  {
   "cell_type": "markdown",
   "metadata": {},
   "source": [
    "----------------------------------------------------------------"
   ]
  },
  {
   "cell_type": "markdown",
   "metadata": {},
   "source": [
    "2\\. Let $\\mathcal{F}$ denote the 2D discrete Fourier transform. Compute $|\\mathcal{F}(\\mathbf{X})|^2$, the spectrum of the image $\\mathbf{X} \\in \\mathbb{R}^{M_1 \\times N_1}$ (i.e., the term-wise squared absolute value of its Fourier transform) loaded in 1. Display the result in logarithmic scale.\n",
    "\n",
    "a) In this representation, where is the pixel of the spectrum associated with the null frequency located?\n",
    "    \n",
    "b) Take a look at the documentation of `np.fft.fftshift`. Use it to ensure that the null frequency is located at the center of the image. "
   ]
  },
  {
   "cell_type": "markdown",
   "metadata": {},
   "source": [
    "**Answer:**"
   ]
  },
  {
   "cell_type": "code",
   "execution_count": null,
   "metadata": {},
   "outputs": [],
   "source": [
    "import numpy as np\n",
    "from matplotlib.colors import LogNorm\n",
    "\n",
    "# Spectrum of the image\n",
    "dft_gray_img = np.fft.fft2(gray_img)\n",
    "spectrum = np.vectorize(lambda x: np.abs(x)**2)(dft_gray_img)\n",
    "plt.figure()\n",
    "plt.title(\"Spectrum of the image (log norm)\")\n",
    "plt.imshow(spectrum, norm=LogNorm())\n",
    "\n",
    "# Spectrum of the image after centering null frequency\n",
    "dft_gray_img = np.fft.fftshift(dft_gray_img)\n",
    "spectrum = np.vectorize(lambda x: np.abs(x)**2)(dft_gray_img)\n",
    "plt.figure()\n",
    "plt.title(\"Spectrum of the image after centering null frequency (log norm)\")\n",
    "plt.imshow(spectrum, norm=LogNorm())"
   ]
  },
  {
   "cell_type": "markdown",
   "metadata": {},
   "source": [
    "In the first representation, the null frequency is located in dft_gray_img[0] whereas after the np.fft.fftshift the null frequency is located at the center of the image (i.e. at the center of dft_gray_img)."
   ]
  },
  {
   "cell_type": "markdown",
   "metadata": {},
   "source": [
    "In bonus, we show the phase of the image before and after centralizing the null frequency"
   ]
  },
  {
   "cell_type": "code",
   "execution_count": null,
   "metadata": {},
   "outputs": [],
   "source": [
    "import cmath\n",
    "\n",
    "# Phase of the image\n",
    "dft_gray_img = np.fft.fft2(gray_img)\n",
    "phase = np.vectorize(lambda x: cmath.phase(x))(dft_gray_img)\n",
    "plt.figure()\n",
    "plt.title(\"Phase of the image\")\n",
    "plt.imshow(phase)\n",
    "\n",
    "# Phase of the image after centering null frequency\n",
    "dft_gray_img = np.fft.fftshift(dft_gray_img)\n",
    "phase = np.vectorize(lambda x: cmath.phase(x))(dft_gray_img)\n",
    "plt.figure()\n",
    "plt.title(\"Phase of the image after centering null frequency\")\n",
    "plt.imshow(phase)"
   ]
  },
  {
   "cell_type": "markdown",
   "metadata": {},
   "source": [
    "----------------------------------------------------------------"
   ]
  },
  {
   "cell_type": "markdown",
   "metadata": {},
   "source": [
    "3\\. \n",
    "    a) Create a function `ideal_lowpass_filter` to filter $\\mathbf{X}$ by an ideal low-pass filter. The filter preserves Fourier coefficients associated to frequencies below a cutoff specified in each direction ($\\mathbf{f}_c = (f_{c,y}, f_{c,x})$), and sets others to zero. For simplicity, $f_{c,y}$ and $f_{c,x}$ can be expressed as a number of samples to be kept along each dimension (e.g., $\\mathbf{f}_c = (50,50)$).\n",
    "\n",
    "b) Display the filtered image for 2 different values of $\\mathbf{f}_c$. What do you observe as the cutoff frequencies increase?\n",
    "    \n",
    " Warning: beware the type of the array after `np.fft.fft2`, do not hesitate to specify the type if you make copies from this array\n",
    " ```python\n",
    " a = np.zeros((2,2), dtype=np.complex)\n",
    " ...\n",
    " ```"
   ]
  },
  {
   "cell_type": "markdown",
   "metadata": {},
   "source": [
    "**Answer:**"
   ]
  },
  {
   "cell_type": "code",
   "execution_count": null,
   "metadata": {},
   "outputs": [],
   "source": [
    "def ideal_lowpass_filter(x, fc):\n",
    "    \"\"\"Apply a low pass filter on a 2D array\n",
    "\n",
    "    Args:\n",
    "        x (array): The 2D array to be filtered\n",
    "        fc ((float, float)): Cutoff frequencies\n",
    "\n",
    "    Returns:\n",
    "        array: The 2D array after the low pass filter\n",
    "    \"\"\"\n",
    "    dft_x = np.fft.fft2(x)\n",
    "    dft_x = np.fft.fftshift(dft_x)\n",
    "    M,N = dft_x.shape\n",
    "    dft_x_low_pass = dft_x[M//2-fc[0]//2:M//2+fc[0]//2, N//2-fc[1]//2:N//2+fc[1]//2]\n",
    "    return np.fft.ifft2(dft_x_low_pass)"
   ]
  },
  {
   "cell_type": "markdown",
   "metadata": {},
   "source": [
    "We implement tests : "
   ]
  },
  {
   "cell_type": "code",
   "execution_count": null,
   "metadata": {},
   "outputs": [],
   "source": [
    "class Test_TestIdealLowpassFilter(unittest.TestCase):\n",
    "    def test_ideal_lowpass_filter_type(self):\n",
    "        rng = np.random.default_rng(84548)\n",
    "        M,N = rng.integers(low=2, high=20, size = 2)\n",
    "        f = rng.integers(low=1, high=min(M,N), size = 1)[0]\n",
    "        fc = np.array([f, f])\n",
    "        x = rng.integers(low=0, high=255, size=(M,N))\n",
    "        self.assertIsInstance(\n",
    "            ideal_lowpass_filter(x, fc), np.ndarray\n",
    "        )\n",
    "    def test_ideal_lowpass_filter_shape_output(self):\n",
    "        rng = np.random.default_rng(84548)\n",
    "        M,N = rng.integers(low=2, high=20, size = 2)\n",
    "        f = rng.integers(low=1, high=min(M,N), size = 1)[0]\n",
    "        fc = np.array([f, f])\n",
    "        x = rng.integers(low=0, high=255, size=(M,N))\n",
    "        self.assertEqual(\n",
    "            ideal_lowpass_filter(x, fc).shape, (f,f)\n",
    "        )"
   ]
  },
  {
   "cell_type": "markdown",
   "metadata": {},
   "source": [
    "Examples : "
   ]
  },
  {
   "cell_type": "code",
   "execution_count": null,
   "metadata": {},
   "outputs": [],
   "source": [
    "fc1, fc2 = (50, 50), (150, 150)\n",
    "new_gray_img_1 = ideal_lowpass_filter(gray_img, fc1)\n",
    "new_gray_img_2= ideal_lowpass_filter(gray_img, fc2)\n",
    "\n",
    "new_gray_img_1 = np.abs(new_gray_img_1)\n",
    "new_gray_img_2 = np.abs(new_gray_img_2)\n",
    "\n",
    "fig, ax = plt.subplots(1,3)\n",
    "fig.set_figheight(15)\n",
    "fig.set_figwidth(15)\n",
    "\n",
    "ax[0].set_title(\"Original image\")\n",
    "ax[0].imshow(gray_img, cmap=\"gray\")\n",
    "\n",
    "ax[1].set_title(f\"Image with low pass filter fc={fc1}\")\n",
    "ax[1].imshow(new_gray_img_1, cmap=\"gray\")\n",
    "\n",
    "ax[2].set_title(f\"Image with low pass filter fc={fc2}\")\n",
    "ax[2].imshow(new_gray_img_2, cmap=\"gray\")\n",
    "\n",
    "fig.savefig(\"figures/ideal_lowpass_filter.png\")"
   ]
  },
  {
   "cell_type": "markdown",
   "metadata": {},
   "source": [
    "As the cutoff frequencies increase, we observe that the filtered image look like more and more like the original image. When the cutoff frequencies decrease the filtered image gets increasingly pixilated. This makes sense given that with low cutoff frequencies, there are less frequencies in the Fourier transform which impacts the resolution of the returned image."
   ]
  },
  {
   "cell_type": "markdown",
   "metadata": {},
   "source": [
    "----------------------------------------------------------------"
   ]
  },
  {
   "cell_type": "markdown",
   "metadata": {},
   "source": [
    "4\\. Let $\\mathbf{H} \\in \\mathbb{R}^{M_2\\times N_2}$ be a 2-D Gaussian kernel, obtained as the outer product of two 1-D Gaussian windows $\\mathbf{w}_y \\in \\mathbb{R}^{M_2}$ and $\\mathbf{w}_x \\in \\mathbb{R}^{N_2}$, of standard deviation $\\sigma_y = 10$ and $\\sigma_x = 10$, respectively:\n",
    "\n",
    "\\begin{equation}\n",
    "    \\mathbf{H} = \\mathbf{w}_y \\mathbf{w}_x^T.\n",
    "\\end{equation}\n",
    "\n",
    "Let $M = M_1+M_2-1$ and $N =  N_1+N_2-1$. From the discrete convolution theorem, the linear convolution between $\\mathbf{H}$ and $\\mathbf{X}$ can be computed as follows\n",
    "\n",
    "\\begin{equation}\n",
    "    \\mathbf{X} \\star \\mathbf{H} =P_1^* \\bigg( \\mathcal{F}^{-1} \\Big( \\mathcal{F}\\big(P_1(\\mathbf{X})\\big) \\odot \\mathcal{F}\\big(P_2(\\mathbf{H})\\big) \\Big) \\bigg) \\in \\mathbb{R}^{M\\times N},\n",
    "\\end{equation}\n",
    "\n",
    "where $P_i: \\mathbb{R}^{M_i \\times N_i} \\rightarrow \\mathbb{R}^{M \\times N}$, $i \\in \\{1, 2\\}$, are 0-padding operators, $\\odot$ is the Hadamard (= term-wise) product, $\\mathcal{F}^{-1}$ is the 2D discrete inverse Fourier transform and $P_1^*$ is a cropping operator (adjoint of $P_1$). \n",
    "\n",
    "Compute and display $\\mathbf{X} \\star \\mathbf{H}$, for $M_2 = N_2 = 10$. What do you observe?\n",
    "\n",
    " Hint: \n",
    " - the usual 0-padding procedure in image space consists in appending trailing zeros. For instance (in 1D), 0-padding a vector $\\mathbf{x} \\in \\mathbb{R}^N_1$ to the size $NN_1$ corresponds to creating the vector\n",
    "\\begin{bmatrix}\n",
    "\\mathbf{x} \\\\\n",
    "\\mathbf{0}_{N-N_1}\n",
    "\\end{bmatrix}\n",
    " - since the input images are real, $\\mathcal{F}(\\mathbf{x})$ and $\\mathcal{F}(\\mathbf{h})$ are Hermitian symmetric. In this case, a more efficient version of `np.fft.fft2` can be used, computing only quarter of the Fourier coefficients (half of the Fourier coefficients in each direction): [`np.fft.rfft2`](https://numpy.org/doc/stable/reference/generated/numpy.fft.rfft2.html?highlight=rfft#numpy.fft.rfft2). Its inverse, [`np.fft.irfft2`](https://numpy.org/doc/stable/reference/generated/numpy.fft.irfft2.html#numpy.fft.irfft2), also ensures that the output is real;\n",
    " - the 2D Gaussian window can be generated as the outer product of two 1D Gaussian windows (one window for each dimension);\n",
    " - you can take a look at [scipy.signal.windows.gaussian](https://docs.scipy.org/doc/scipy/reference/generated/scipy.signal.windows.gaussian.html#scipy.signal.windows.gaussian) and [np.newaxis](https://numpy.org/doc/stable/reference/constants.html?highlight=newaxis#numpy.newaxis)."
   ]
  },
  {
   "cell_type": "markdown",
   "metadata": {},
   "source": [
    "**Answer:**"
   ]
  },
  {
   "cell_type": "code",
   "execution_count": null,
   "metadata": {},
   "outputs": [],
   "source": [
    "def gaussian_filter_2d(x, h):\n",
    "    \"\"\"Apply gaussian smoothing on a 2D array\n",
    "\n",
    "    Args:\n",
    "        x (array): The 2D array to be filtered\n",
    "        h (array): 2D Gaussian kernel obtained from the outer product of two gaussian windows\n",
    "\n",
    "    Returns:\n",
    "        array: The 2D array after the gaussian filter\n",
    "    \"\"\"\n",
    "    M1 = x.shape[0]\n",
    "    N1 = x.shape[1]\n",
    "    M2 = h.shape[0]\n",
    "    N2 = h.shape[1]\n",
    "    M = M1 + M2 - 1\n",
    "    N = N1 + N2 - 1\n",
    "\n",
    "    P1_x = np.pad(x, ((0,M-M1), (0,N-N1)), 'constant', constant_values=(0))\n",
    "    P2_h = np.pad(h, ((0,M-M2), (0,N-N2)), 'constant', constant_values=(0))\n",
    "    dft_P1_x = np.fft.rfft2(P1_x)\n",
    "    dft_P2_h = np.fft.rfft2(P2_h)\n",
    "    hadamard = np.multiply(dft_P1_x, dft_P2_h)\n",
    "    inv = np.fft.irfft2(hadamard)\n",
    "    return inv[:M1, :N1]"
   ]
  },
  {
   "cell_type": "markdown",
   "metadata": {},
   "source": [
    "We implement tests : "
   ]
  },
  {
   "cell_type": "code",
   "execution_count": null,
   "metadata": {},
   "outputs": [],
   "source": [
    "from scipy.signal import windows\n",
    "\n",
    "class Test_TestIdealLowpassFilter(unittest.TestCase):\n",
    "    def test_ideal_lowpass_filter_type(self):\n",
    "        rng = np.random.default_rng(84548)\n",
    "        M1,N1, M2, N2 = rng.integers(low=2, high=1024, size = 4)\n",
    "        x = rng.integers(low=0, high=255, size=(M1,N1))\n",
    "\n",
    "        w_x = windows.gaussian(N2,10).reshape((N2,1))\n",
    "        w_y = windows.gaussian(M2,10).reshape((M2,1))\n",
    "        h = w_y @ w_x.T\n",
    "        self.assertIsInstance(gaussian_filter_2d(x, h), np.ndarray)\n",
    "        \n",
    "    def test_ideal_lowpass_filter_shape_output(self):\n",
    "        rng = np.random.default_rng(84548)\n",
    "        M1,N1, M2, N2 = rng.integers(low=2, high=1024, size = 4)\n",
    "        x = rng.integers(low=0, high=255, size=(M1,N1))\n",
    "\n",
    "        w_x = windows.gaussian(N2,10).reshape((N2,1))\n",
    "        w_y = windows.gaussian(M2,10).reshape((M2,1))\n",
    "        h = w_y @ w_x.T\n",
    "        self.assertEqual(gaussian_filter_2d(x, h).shape, x.shape\n",
    "                         )"
   ]
  },
  {
   "cell_type": "markdown",
   "metadata": {},
   "source": [
    "Example : "
   ]
  },
  {
   "cell_type": "code",
   "execution_count": null,
   "metadata": {},
   "outputs": [],
   "source": [
    "from scipy.signal import windows\n",
    "\n",
    "M2 = 10\n",
    "N2 = 10\n",
    "\n",
    "w_x = windows.gaussian(N2,10).reshape((N2,1))\n",
    "w_y = windows.gaussian(M2,10).reshape((M2,1))\n",
    "h = w_y @ w_x.T\n",
    "\n",
    "res_img = gaussian_filter_2d(np.array(gray_img), h)"
   ]
  },
  {
   "cell_type": "code",
   "execution_count": null,
   "metadata": {},
   "outputs": [],
   "source": [
    "fig, ax = plt.subplots(1,2)\n",
    "fig.set_figheight(15)\n",
    "fig.set_figwidth(15)\n",
    "\n",
    "ax[0].set_title(\"Original image\")\n",
    "ax[0].imshow(gray_img, cmap=\"gray\")\n",
    "\n",
    "ax[1].set_title(f\"Image with 2D Gaussian kernel of dim {M2}x{N2}\")\n",
    "ax[1].imshow(res_img, cmap=\"gray\")\n",
    "\n",
    "fig.savefig(f\"figures/2D_gaussian_kernel_{M2}x{N2}.png\")"
   ]
  },
  {
   "cell_type": "markdown",
   "metadata": {},
   "source": [
    "We observe a blur effect."
   ]
  }
 ],
 "metadata": {
  "kernelspec": {
   "display_name": "Python 3.9.12 ('base')",
   "language": "python",
   "name": "python3"
  },
  "language_info": {
   "codemirror_mode": {
    "name": "ipython",
    "version": 3
   },
   "file_extension": ".py",
   "mimetype": "text/x-python",
   "name": "python",
   "nbconvert_exporter": "python",
   "pygments_lexer": "ipython3",
   "version": "3.9.12"
  },
  "vscode": {
   "interpreter": {
    "hash": "f35fc4c302fa05141946eeee87a02543093a5f9fe4b255be016c8b1114de3b55"
   }
  }
 },
 "nbformat": 4,
 "nbformat_minor": 4
}
