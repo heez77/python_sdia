{
 "cells": [
  {
   "cell_type": "markdown",
   "metadata": {},
   "source": [
    "# Practical session 4 - K-nearest neighbours (K-NN) classification with numpy, scikit-learn, cython and numba\n",
    "\n",
    "Students (pair):\n",
    "- [Jérémy Jean](https://github.com/heez77)\n",
    "- [Maxime Gey](https://github.com/Purjack)"
   ]
  },
  {
   "cell_type": "markdown",
   "metadata": {},
   "source": [
    "**Useful references for this lab**:\n",
    "\n",
    "[1] scikit-learn: [documentation](https://scikit-learn.org/stable/modules/neighbors.html?highlight=knn%20classification)\n",
    "\n",
    "[2] `numba`: [documentation](http://numba.pydata.org/) \n",
    "\n",
    "[3] cython: [a very useful tutorial](https://cython.readthedocs.io/en/latest/src/userguide/numpy_tutorial.html#numpy-tutorial), and [another one](http://docs.cython.org/en/latest/src/tutorial/cython_tutorial.html)\n",
    "\n",
    "\n",
    "\n",
    "## <a name=\"content\">Contents</a>\n",
    "- [Exercise 1: KNN classification with numpy and sklearn](#ex1)\n",
    "- [Exercise 2: Code acceleration with cython](#ex2)\n",
    "- [Exercise 3: Code acceleration with numba](#ex3)\n",
    "---"
   ]
  },
  {
   "cell_type": "code",
   "execution_count": 18,
   "metadata": {},
   "outputs": [
    {
     "name": "stdout",
     "output_type": "stream",
     "text": [
      "The autoreload extension is already loaded. To reload it, use:\n",
      "  %reload_ext autoreload\n"
     ]
    }
   ],
   "source": [
    "%load_ext autoreload\n",
    "%autoreload 2"
   ]
  },
  {
   "cell_type": "markdown",
   "metadata": {},
   "source": [
    "## <a name=\"ex1\">Exercise 1: K-Nearest Neighbours (K-NN) classification with numpy and scikit-learn</a> [(&#8593;)](#content)"
   ]
  },
  {
   "cell_type": "markdown",
   "metadata": {},
   "source": [
    "This session is a first introduction to classification using the most intuitive non parametric method: the $K$-nearest neighbours. The principle is [the following](https://scikit-learn.org/stable/modules/neighbors.html?highlight=knn%20classification). A set of labelled observations is given as a learning set. A classification taks then consists in assigning a label to any new observation. In particular, the K-NN approach consists in assigning to the observation the most frequent label among its $K$ nearest neighbours taken in the training set."
   ]
  },
  {
   "cell_type": "markdown",
   "metadata": {},
   "source": [
    "### A. Validation on synthetic data\n",
    "\n",
    "Load the training and test datasets `data/synth_train.txt` and `data/synth_test.txt`. Targets belong to the set $\\{1,2\\}$ and entries belong to $\\mathbb{R}^2$. The file `data/synth_train.txt` contain 100 training data samples, and `data/synth_test.txt` contains 200 test samples, where:\n",
    "\n",
    "- the 1st column contains the label of the class the sample;\n",
    "- columns 2 & 3 contain the coordinates of each sample (in $\\mathbb{R}^2$).\n",
    "\n",
    "Useful commands can be found below."
   ]
  },
  {
   "cell_type": "markdown",
   "metadata": {},
   "source": [
    "```python\n",
    "# load the training set\n",
    "train = np.loadtxt('data/synth_train.txt')  #...,delimiter=',') if there are ',' as delimiters\n",
    "class_train = train[:,0]\n",
    "x_train = train[:,1:]\n",
    "N_train = train.shape[0]\n",
    "```"
   ]
  },
  {
   "cell_type": "markdown",
   "metadata": {},
   "source": [
    "```python\n",
    "# load the test set\n",
    "test = np.loadtxt('/datasynth_test.txt') \n",
    "class_test_1 = test[test[:,0]==1]\n",
    "class_test_2 = test[test[:,0]==2]\n",
    "x_test = test[:,1:]\n",
    "N_test = test.shape[0]\n",
    "```"
   ]
  },
  {
   "cell_type": "markdown",
   "metadata": {},
   "source": [
    "1\\. Display the training set and distinguish the two classes. \n",
    "\n",
    "> Hint: useful functions include `matplotlib.pyplot.scatter` or `matplotlib.pyplot.plot`."
   ]
  },
  {
   "cell_type": "markdown",
   "metadata": {},
   "source": [
    "**Answer:**"
   ]
  },
  {
   "cell_type": "code",
   "execution_count": 19,
   "metadata": {},
   "outputs": [],
   "source": [
    "import plotly.express as px\n",
    "import numpy as np\n",
    "import pandas as pd\n",
    "\n",
    "train = np.loadtxt('data/synth_train.txt')  \n",
    "df_train = pd.DataFrame(train, columns = ['classe', 'x1', 'x2'])\n",
    "N_train = df_train.size\n",
    "\n",
    "test = np.loadtxt('data/synth_test.txt') \n",
    "df_test = pd.DataFrame(test, columns = ['classe', 'x1', 'x2'])\n",
    "N_test = df_test.size"
   ]
  },
  {
   "cell_type": "code",
   "execution_count": 20,
   "metadata": {},
   "outputs": [
    {
     "data": {
      "application/vnd.plotly.v1+json": {
       "config": {
        "plotlyServerURL": "https://plot.ly"
       },
       "data": [
        {
         "hovertemplate": "x1=%{x}<br>x2=%{y}<br>classe=%{marker.color}<extra></extra>",
         "legendgroup": "",
         "marker": {
          "color": [
           2,
           2,
           2,
           2,
           1,
           2,
           2,
           1,
           2,
           2,
           2,
           2,
           2,
           2,
           1,
           2,
           2,
           2,
           2,
           2,
           2,
           2,
           2,
           2,
           2,
           2,
           2,
           2,
           2,
           2,
           2,
           1,
           1,
           2,
           1,
           2,
           2,
           2,
           2,
           2,
           2,
           2,
           2,
           2,
           2,
           2,
           1,
           2,
           2,
           2,
           2,
           2,
           1,
           2,
           2,
           1,
           2,
           1,
           2,
           2,
           2,
           2,
           2,
           2,
           2,
           1,
           2,
           2,
           1,
           1,
           2,
           2,
           2,
           2,
           2,
           2,
           2,
           2,
           2,
           2,
           1,
           1,
           2,
           1,
           2,
           2,
           2,
           2,
           2,
           2,
           2,
           2,
           2,
           2,
           1,
           1,
           1,
           1,
           1,
           1
          ],
          "coloraxis": "coloraxis",
          "symbol": "circle"
         },
         "mode": "markers",
         "name": "",
         "orientation": "v",
         "showlegend": false,
         "type": "scatter",
         "x": [
          -0.7222114129586,
          -0.924679116842047,
          -0.766022814943256,
          -0.0732894788556321,
          -1.39291197731283,
          -0.202233388934873,
          0.481737671784873,
          -1.8655121173883,
          -0.152468727259032,
          0.38635648749537,
          0.0875764309449853,
          -0.162870803458684,
          0.205627604169169,
          -0.678880330634291,
          -0.631309441163341,
          0.451357146792761,
          -0.379447056101144,
          -0.67808924696543,
          -0.6353679482783,
          -0.394503312110074,
          0.361462943689775,
          -0.528663281188422,
          -0.251051039074415,
          0.0782884526153436,
          -0.508588755690403,
          0.408869378842243,
          -0.365647127226042,
          1.41253669598274,
          0.185369078583416,
          -0.236029032268647,
          -0.614293392873263,
          -2.30408372892482,
          -1.6439848395597,
          -0.099631142781541,
          -1.86566438019087,
          0.29707583331245,
          0.241635652911538,
          -0.308059142141273,
          -0.297331480776794,
          0.0425462999904274,
          -0.293494487190976,
          0.0472196732520648,
          0.511434878557491,
          -0.439766514299069,
          0.579727620807449,
          -0.22587568551299,
          -1.31699917881368,
          0.403359817740187,
          0.0639802809331373,
          -0.200549408990853,
          0.179212309999251,
          -0.684781628987495,
          -1.26626456003945,
          -0.0732275755712657,
          -0.278834870223322,
          -1.66770622666567,
          -0.932784740334326,
          -0.222492292076254,
          -0.419301102755586,
          -0.102320397506266,
          0.246029751804449,
          0.477011782112795,
          0.166124402475656,
          0.392487504719149,
          0.26880633054516,
          -1.1892336014914,
          -0.353530726637597,
          0.205995439006312,
          0.357859266241446,
          -1.07534587024242,
          0.610733203164708,
          0.34783794294932,
          0.133976431089943,
          0.487540109560409,
          0.328137396161017,
          -0.307134275715141,
          0.622456405195283,
          0.023923605235643,
          1.25632667782585,
          -0.207777444410633,
          -1.07196807487457,
          -1.40721089942489,
          0.643678850830891,
          -1.45327218253849,
          0.891230481942523,
          0.252066390681576,
          0.504207545290246,
          0.299918390809922,
          0.490412055618484,
          1.06136639629653,
          0.365892980043387,
          -1.1024698611437,
          0.115280444945432,
          0.222190799619655,
          0.317452811019433,
          -0.693623079484142,
          -0.651352405455385,
          -2.24047850877093,
          -0.688766771564921,
          -2.06428441900782
         ],
         "xaxis": "x",
         "y": [
          2.00447087136242,
          0.483669283303616,
          0.794328908264858,
          0.969929147538923,
          0.999697089649905,
          1.35033191198506,
          0.984418575841914,
          1.54773159042401,
          0.922489686034523,
          0.366336720871723,
          0.932411534685466,
          0.630517186027526,
          0.902728059891789,
          0.519282489082532,
          1.66060671402444,
          1.02281328367944,
          0.892502892723954,
          0.969433620547686,
          1.29934918685766,
          0.327163230000664,
          1.25890893821093,
          1.26110462471585,
          0.3041819401222,
          1.44882862257848,
          1.2875665675783,
          1.49537607406398,
          0.943434089491931,
          1.54855990106491,
          1.0947339566202,
          1.55526095979461,
          1.38945066226994,
          1.38069898840687,
          1.52199681104139,
          1.12167183608714,
          0.292956871515864,
          0.685937988358744,
          1.44307731093209,
          0.616810573192588,
          1.64968595570792,
          0.808982969980399,
          0.944090798130192,
          1.50461364233168,
          0.590927353613734,
          1.1721005687771,
          1.49159036959202,
          0.787129098143246,
          0.932311221709179,
          1.06184402730383,
          1.71779511292622,
          1.07531583235228,
          1.33051886263733,
          1.22567327645858,
          2.28600726481963,
          1.27133904319531,
          0.396216850503442,
          1.21968201824743,
          1.10552625678307,
          1.98252437260598,
          0.695197243837259,
          0.765296493992673,
          1.82964712136056,
          0.0611918456353968,
          0.832661929923749,
          1.46224249843351,
          0.698569846489762,
          1.99198866550859,
          0.781098791781922,
          2.33022515439259,
          3.35842349881369,
          1.83307889669395,
          0.26755191141353,
          0.754523597335553,
          1.13245178008424,
          0.839583040875595,
          1.05381391421355,
          1.21094298929596,
          0.398273208283436,
          -0.0473318420892674,
          0.896163773144661,
          1.17187213473804,
          2.87218367130169,
          1.71273051006468,
          1.90840839163394,
          2.02246219076283,
          1.73158341544632,
          0.848664430272533,
          1.06331255073084,
          0.950756757796549,
          0.821936045253742,
          0.788056076691746,
          1.71060938237464,
          0.618737913541539,
          1.87763315549822,
          1.03704295357252,
          2.8662885931298,
          2.24206585399344,
          1.80895864388631,
          1.04991147162741,
          1.33671775150787,
          2.38517335491812
         ],
         "yaxis": "y"
        }
       ],
       "layout": {
        "coloraxis": {
         "colorbar": {
          "title": {
           "text": "classe"
          }
         },
         "colorscale": [
          [
           0,
           "#0d0887"
          ],
          [
           0.1111111111111111,
           "#46039f"
          ],
          [
           0.2222222222222222,
           "#7201a8"
          ],
          [
           0.3333333333333333,
           "#9c179e"
          ],
          [
           0.4444444444444444,
           "#bd3786"
          ],
          [
           0.5555555555555556,
           "#d8576b"
          ],
          [
           0.6666666666666666,
           "#ed7953"
          ],
          [
           0.7777777777777778,
           "#fb9f3a"
          ],
          [
           0.8888888888888888,
           "#fdca26"
          ],
          [
           1,
           "#f0f921"
          ]
         ]
        },
        "legend": {
         "tracegroupgap": 0
        },
        "template": {
         "data": {
          "bar": [
           {
            "error_x": {
             "color": "#2a3f5f"
            },
            "error_y": {
             "color": "#2a3f5f"
            },
            "marker": {
             "line": {
              "color": "#E5ECF6",
              "width": 0.5
             },
             "pattern": {
              "fillmode": "overlay",
              "size": 10,
              "solidity": 0.2
             }
            },
            "type": "bar"
           }
          ],
          "barpolar": [
           {
            "marker": {
             "line": {
              "color": "#E5ECF6",
              "width": 0.5
             },
             "pattern": {
              "fillmode": "overlay",
              "size": 10,
              "solidity": 0.2
             }
            },
            "type": "barpolar"
           }
          ],
          "carpet": [
           {
            "aaxis": {
             "endlinecolor": "#2a3f5f",
             "gridcolor": "white",
             "linecolor": "white",
             "minorgridcolor": "white",
             "startlinecolor": "#2a3f5f"
            },
            "baxis": {
             "endlinecolor": "#2a3f5f",
             "gridcolor": "white",
             "linecolor": "white",
             "minorgridcolor": "white",
             "startlinecolor": "#2a3f5f"
            },
            "type": "carpet"
           }
          ],
          "choropleth": [
           {
            "colorbar": {
             "outlinewidth": 0,
             "ticks": ""
            },
            "type": "choropleth"
           }
          ],
          "contour": [
           {
            "colorbar": {
             "outlinewidth": 0,
             "ticks": ""
            },
            "colorscale": [
             [
              0,
              "#0d0887"
             ],
             [
              0.1111111111111111,
              "#46039f"
             ],
             [
              0.2222222222222222,
              "#7201a8"
             ],
             [
              0.3333333333333333,
              "#9c179e"
             ],
             [
              0.4444444444444444,
              "#bd3786"
             ],
             [
              0.5555555555555556,
              "#d8576b"
             ],
             [
              0.6666666666666666,
              "#ed7953"
             ],
             [
              0.7777777777777778,
              "#fb9f3a"
             ],
             [
              0.8888888888888888,
              "#fdca26"
             ],
             [
              1,
              "#f0f921"
             ]
            ],
            "type": "contour"
           }
          ],
          "contourcarpet": [
           {
            "colorbar": {
             "outlinewidth": 0,
             "ticks": ""
            },
            "type": "contourcarpet"
           }
          ],
          "heatmap": [
           {
            "colorbar": {
             "outlinewidth": 0,
             "ticks": ""
            },
            "colorscale": [
             [
              0,
              "#0d0887"
             ],
             [
              0.1111111111111111,
              "#46039f"
             ],
             [
              0.2222222222222222,
              "#7201a8"
             ],
             [
              0.3333333333333333,
              "#9c179e"
             ],
             [
              0.4444444444444444,
              "#bd3786"
             ],
             [
              0.5555555555555556,
              "#d8576b"
             ],
             [
              0.6666666666666666,
              "#ed7953"
             ],
             [
              0.7777777777777778,
              "#fb9f3a"
             ],
             [
              0.8888888888888888,
              "#fdca26"
             ],
             [
              1,
              "#f0f921"
             ]
            ],
            "type": "heatmap"
           }
          ],
          "heatmapgl": [
           {
            "colorbar": {
             "outlinewidth": 0,
             "ticks": ""
            },
            "colorscale": [
             [
              0,
              "#0d0887"
             ],
             [
              0.1111111111111111,
              "#46039f"
             ],
             [
              0.2222222222222222,
              "#7201a8"
             ],
             [
              0.3333333333333333,
              "#9c179e"
             ],
             [
              0.4444444444444444,
              "#bd3786"
             ],
             [
              0.5555555555555556,
              "#d8576b"
             ],
             [
              0.6666666666666666,
              "#ed7953"
             ],
             [
              0.7777777777777778,
              "#fb9f3a"
             ],
             [
              0.8888888888888888,
              "#fdca26"
             ],
             [
              1,
              "#f0f921"
             ]
            ],
            "type": "heatmapgl"
           }
          ],
          "histogram": [
           {
            "marker": {
             "pattern": {
              "fillmode": "overlay",
              "size": 10,
              "solidity": 0.2
             }
            },
            "type": "histogram"
           }
          ],
          "histogram2d": [
           {
            "colorbar": {
             "outlinewidth": 0,
             "ticks": ""
            },
            "colorscale": [
             [
              0,
              "#0d0887"
             ],
             [
              0.1111111111111111,
              "#46039f"
             ],
             [
              0.2222222222222222,
              "#7201a8"
             ],
             [
              0.3333333333333333,
              "#9c179e"
             ],
             [
              0.4444444444444444,
              "#bd3786"
             ],
             [
              0.5555555555555556,
              "#d8576b"
             ],
             [
              0.6666666666666666,
              "#ed7953"
             ],
             [
              0.7777777777777778,
              "#fb9f3a"
             ],
             [
              0.8888888888888888,
              "#fdca26"
             ],
             [
              1,
              "#f0f921"
             ]
            ],
            "type": "histogram2d"
           }
          ],
          "histogram2dcontour": [
           {
            "colorbar": {
             "outlinewidth": 0,
             "ticks": ""
            },
            "colorscale": [
             [
              0,
              "#0d0887"
             ],
             [
              0.1111111111111111,
              "#46039f"
             ],
             [
              0.2222222222222222,
              "#7201a8"
             ],
             [
              0.3333333333333333,
              "#9c179e"
             ],
             [
              0.4444444444444444,
              "#bd3786"
             ],
             [
              0.5555555555555556,
              "#d8576b"
             ],
             [
              0.6666666666666666,
              "#ed7953"
             ],
             [
              0.7777777777777778,
              "#fb9f3a"
             ],
             [
              0.8888888888888888,
              "#fdca26"
             ],
             [
              1,
              "#f0f921"
             ]
            ],
            "type": "histogram2dcontour"
           }
          ],
          "mesh3d": [
           {
            "colorbar": {
             "outlinewidth": 0,
             "ticks": ""
            },
            "type": "mesh3d"
           }
          ],
          "parcoords": [
           {
            "line": {
             "colorbar": {
              "outlinewidth": 0,
              "ticks": ""
             }
            },
            "type": "parcoords"
           }
          ],
          "pie": [
           {
            "automargin": true,
            "type": "pie"
           }
          ],
          "scatter": [
           {
            "fillpattern": {
             "fillmode": "overlay",
             "size": 10,
             "solidity": 0.2
            },
            "type": "scatter"
           }
          ],
          "scatter3d": [
           {
            "line": {
             "colorbar": {
              "outlinewidth": 0,
              "ticks": ""
             }
            },
            "marker": {
             "colorbar": {
              "outlinewidth": 0,
              "ticks": ""
             }
            },
            "type": "scatter3d"
           }
          ],
          "scattercarpet": [
           {
            "marker": {
             "colorbar": {
              "outlinewidth": 0,
              "ticks": ""
             }
            },
            "type": "scattercarpet"
           }
          ],
          "scattergeo": [
           {
            "marker": {
             "colorbar": {
              "outlinewidth": 0,
              "ticks": ""
             }
            },
            "type": "scattergeo"
           }
          ],
          "scattergl": [
           {
            "marker": {
             "colorbar": {
              "outlinewidth": 0,
              "ticks": ""
             }
            },
            "type": "scattergl"
           }
          ],
          "scattermapbox": [
           {
            "marker": {
             "colorbar": {
              "outlinewidth": 0,
              "ticks": ""
             }
            },
            "type": "scattermapbox"
           }
          ],
          "scatterpolar": [
           {
            "marker": {
             "colorbar": {
              "outlinewidth": 0,
              "ticks": ""
             }
            },
            "type": "scatterpolar"
           }
          ],
          "scatterpolargl": [
           {
            "marker": {
             "colorbar": {
              "outlinewidth": 0,
              "ticks": ""
             }
            },
            "type": "scatterpolargl"
           }
          ],
          "scatterternary": [
           {
            "marker": {
             "colorbar": {
              "outlinewidth": 0,
              "ticks": ""
             }
            },
            "type": "scatterternary"
           }
          ],
          "surface": [
           {
            "colorbar": {
             "outlinewidth": 0,
             "ticks": ""
            },
            "colorscale": [
             [
              0,
              "#0d0887"
             ],
             [
              0.1111111111111111,
              "#46039f"
             ],
             [
              0.2222222222222222,
              "#7201a8"
             ],
             [
              0.3333333333333333,
              "#9c179e"
             ],
             [
              0.4444444444444444,
              "#bd3786"
             ],
             [
              0.5555555555555556,
              "#d8576b"
             ],
             [
              0.6666666666666666,
              "#ed7953"
             ],
             [
              0.7777777777777778,
              "#fb9f3a"
             ],
             [
              0.8888888888888888,
              "#fdca26"
             ],
             [
              1,
              "#f0f921"
             ]
            ],
            "type": "surface"
           }
          ],
          "table": [
           {
            "cells": {
             "fill": {
              "color": "#EBF0F8"
             },
             "line": {
              "color": "white"
             }
            },
            "header": {
             "fill": {
              "color": "#C8D4E3"
             },
             "line": {
              "color": "white"
             }
            },
            "type": "table"
           }
          ]
         },
         "layout": {
          "annotationdefaults": {
           "arrowcolor": "#2a3f5f",
           "arrowhead": 0,
           "arrowwidth": 1
          },
          "autotypenumbers": "strict",
          "coloraxis": {
           "colorbar": {
            "outlinewidth": 0,
            "ticks": ""
           }
          },
          "colorscale": {
           "diverging": [
            [
             0,
             "#8e0152"
            ],
            [
             0.1,
             "#c51b7d"
            ],
            [
             0.2,
             "#de77ae"
            ],
            [
             0.3,
             "#f1b6da"
            ],
            [
             0.4,
             "#fde0ef"
            ],
            [
             0.5,
             "#f7f7f7"
            ],
            [
             0.6,
             "#e6f5d0"
            ],
            [
             0.7,
             "#b8e186"
            ],
            [
             0.8,
             "#7fbc41"
            ],
            [
             0.9,
             "#4d9221"
            ],
            [
             1,
             "#276419"
            ]
           ],
           "sequential": [
            [
             0,
             "#0d0887"
            ],
            [
             0.1111111111111111,
             "#46039f"
            ],
            [
             0.2222222222222222,
             "#7201a8"
            ],
            [
             0.3333333333333333,
             "#9c179e"
            ],
            [
             0.4444444444444444,
             "#bd3786"
            ],
            [
             0.5555555555555556,
             "#d8576b"
            ],
            [
             0.6666666666666666,
             "#ed7953"
            ],
            [
             0.7777777777777778,
             "#fb9f3a"
            ],
            [
             0.8888888888888888,
             "#fdca26"
            ],
            [
             1,
             "#f0f921"
            ]
           ],
           "sequentialminus": [
            [
             0,
             "#0d0887"
            ],
            [
             0.1111111111111111,
             "#46039f"
            ],
            [
             0.2222222222222222,
             "#7201a8"
            ],
            [
             0.3333333333333333,
             "#9c179e"
            ],
            [
             0.4444444444444444,
             "#bd3786"
            ],
            [
             0.5555555555555556,
             "#d8576b"
            ],
            [
             0.6666666666666666,
             "#ed7953"
            ],
            [
             0.7777777777777778,
             "#fb9f3a"
            ],
            [
             0.8888888888888888,
             "#fdca26"
            ],
            [
             1,
             "#f0f921"
            ]
           ]
          },
          "colorway": [
           "#636efa",
           "#EF553B",
           "#00cc96",
           "#ab63fa",
           "#FFA15A",
           "#19d3f3",
           "#FF6692",
           "#B6E880",
           "#FF97FF",
           "#FECB52"
          ],
          "font": {
           "color": "#2a3f5f"
          },
          "geo": {
           "bgcolor": "white",
           "lakecolor": "white",
           "landcolor": "#E5ECF6",
           "showlakes": true,
           "showland": true,
           "subunitcolor": "white"
          },
          "hoverlabel": {
           "align": "left"
          },
          "hovermode": "closest",
          "mapbox": {
           "style": "light"
          },
          "paper_bgcolor": "white",
          "plot_bgcolor": "#E5ECF6",
          "polar": {
           "angularaxis": {
            "gridcolor": "white",
            "linecolor": "white",
            "ticks": ""
           },
           "bgcolor": "#E5ECF6",
           "radialaxis": {
            "gridcolor": "white",
            "linecolor": "white",
            "ticks": ""
           }
          },
          "scene": {
           "xaxis": {
            "backgroundcolor": "#E5ECF6",
            "gridcolor": "white",
            "gridwidth": 2,
            "linecolor": "white",
            "showbackground": true,
            "ticks": "",
            "zerolinecolor": "white"
           },
           "yaxis": {
            "backgroundcolor": "#E5ECF6",
            "gridcolor": "white",
            "gridwidth": 2,
            "linecolor": "white",
            "showbackground": true,
            "ticks": "",
            "zerolinecolor": "white"
           },
           "zaxis": {
            "backgroundcolor": "#E5ECF6",
            "gridcolor": "white",
            "gridwidth": 2,
            "linecolor": "white",
            "showbackground": true,
            "ticks": "",
            "zerolinecolor": "white"
           }
          },
          "shapedefaults": {
           "line": {
            "color": "#2a3f5f"
           }
          },
          "ternary": {
           "aaxis": {
            "gridcolor": "white",
            "linecolor": "white",
            "ticks": ""
           },
           "baxis": {
            "gridcolor": "white",
            "linecolor": "white",
            "ticks": ""
           },
           "bgcolor": "#E5ECF6",
           "caxis": {
            "gridcolor": "white",
            "linecolor": "white",
            "ticks": ""
           }
          },
          "title": {
           "x": 0.05
          },
          "xaxis": {
           "automargin": true,
           "gridcolor": "white",
           "linecolor": "white",
           "ticks": "",
           "title": {
            "standoff": 15
           },
           "zerolinecolor": "white",
           "zerolinewidth": 2
          },
          "yaxis": {
           "automargin": true,
           "gridcolor": "white",
           "linecolor": "white",
           "ticks": "",
           "title": {
            "standoff": 15
           },
           "zerolinecolor": "white",
           "zerolinewidth": 2
          }
         }
        },
        "title": {
         "text": "Data visualization of the training dataset"
        },
        "xaxis": {
         "anchor": "y",
         "domain": [
          0,
          1
         ],
         "title": {
          "text": "x1"
         }
        },
        "yaxis": {
         "anchor": "x",
         "domain": [
          0,
          1
         ],
         "title": {
          "text": "x2"
         }
        }
       }
      }
     },
     "metadata": {},
     "output_type": "display_data"
    }
   ],
   "source": [
    "px.scatter(df_train,x='x1',y='x2',color='classe',title='Data visualization of the training dataset')"
   ]
  },
  {
   "cell_type": "code",
   "execution_count": 21,
   "metadata": {},
   "outputs": [
    {
     "data": {
      "application/vnd.plotly.v1+json": {
       "config": {
        "plotlyServerURL": "https://plot.ly"
       },
       "data": [
        {
         "hovertemplate": "x1=%{x}<br>x2=%{y}<br>classe=%{marker.color}<extra></extra>",
         "legendgroup": "",
         "marker": {
          "color": [
           2,
           2,
           2,
           2,
           2,
           2,
           2,
           2,
           2,
           1,
           2,
           1,
           1,
           2,
           1,
           2,
           1,
           1,
           1,
           2,
           2,
           1,
           2,
           1,
           2,
           2,
           1,
           2,
           2,
           1,
           2,
           1,
           2,
           1,
           2,
           2,
           1,
           1,
           2,
           2,
           2,
           2,
           1,
           2,
           2,
           1,
           2,
           1,
           1,
           2,
           2,
           1,
           1,
           1,
           2,
           2,
           1,
           2,
           2,
           2,
           2,
           2,
           2,
           1,
           2,
           2,
           2,
           1,
           2,
           2,
           2,
           1,
           2,
           2,
           1,
           1,
           1,
           2,
           1,
           1,
           1,
           2,
           1,
           2,
           2,
           2,
           1,
           1,
           2,
           2,
           2,
           2,
           1,
           2,
           2,
           2,
           2,
           2,
           1,
           2,
           2,
           2,
           2,
           2,
           2,
           2,
           2,
           1,
           2,
           2,
           2,
           2,
           2,
           2,
           2,
           2,
           1,
           2,
           2,
           2,
           2,
           2,
           2,
           1,
           2,
           1,
           2,
           2,
           2,
           2,
           2,
           2,
           2,
           2,
           1,
           1,
           2,
           2,
           2,
           2,
           2,
           2,
           1,
           1,
           1,
           1,
           2,
           2,
           1,
           2,
           2,
           2,
           2,
           2,
           1,
           2,
           2,
           2,
           1,
           2,
           1,
           2,
           2,
           2,
           2,
           2,
           2,
           1,
           2,
           2,
           1,
           2,
           2,
           2,
           1,
           2,
           2,
           1,
           2,
           2,
           2,
           2,
           2,
           2,
           1,
           2,
           2,
           1,
           1,
           2,
           1,
           1,
           1,
           2,
           2,
           2,
           2,
           2,
           2,
           1
          ],
          "coloraxis": "coloraxis",
          "symbol": "circle"
         },
         "mode": "markers",
         "name": "",
         "orientation": "v",
         "showlegend": false,
         "type": "scatter",
         "x": [
          0.548377329092262,
          -0.516182355090629,
          -0.928778331455398,
          0.0700040451666702,
          0.267028434070118,
          -0.57664073495068,
          -0.571998215013911,
          0.085910428686603,
          0.583964255424017,
          -1.06711927670054,
          -0.0562649176241551,
          -0.524936248287615,
          -1.23658248867188,
          -0.0778122418747806,
          -0.313748143992697,
          0.320501890715898,
          -0.0673953040731805,
          -1.47557179462652,
          -0.763320669217402,
          0.248011555664068,
          0.0507678126302484,
          -0.963208133408971,
          -0.0377217560626707,
          -0.845406922022226,
          -0.273976475842833,
          0.38706980512753,
          -0.515453361384079,
          -0.236570845966961,
          0.118125542055563,
          -1.57193989511746,
          0.108560055833345,
          -0.297763681076058,
          -0.082606122419637,
          -0.475767227078988,
          0.225359536365398,
          -0.450367581684656,
          -1.58918210776721,
          -0.528189115491888,
          -0.00913710710419539,
          0.0236993292805952,
          -1.12197108420919,
          -0.21084067686791,
          -0.439299420755364,
          0.253558969854388,
          0.0565460586650199,
          -0.845790721905697,
          -0.138891085533467,
          -0.76761402096743,
          -2.32044284842924,
          0.181205251422961,
          0.0616237373447102,
          -1.97950817180784,
          -1.82865193442128,
          -0.396859461129857,
          0.185940765129506,
          0.242214624825961,
          -1.75949747969882,
          -0.786570617189198,
          -0.272972303183431,
          -0.0683492981766457,
          0.37981736198006,
          0.411877216201486,
          0.624493102281784,
          0.374218223862995,
          -0.359385981243246,
          0.00204001381345192,
          -0.627939689758823,
          -0.979911850180111,
          -0.00309670876357458,
          0.472659867667311,
          -0.364861430898182,
          -1.14092922451121,
          0.598031033306676,
          -0.433484838905137,
          -0.661738017621415,
          -0.928490569809406,
          0.27261739929014,
          0.469379751784666,
          -0.982806734175102,
          -0.807872183354628,
          -0.906407397212613,
          0.31765713019852,
          -1.24450837985478,
          -0.82866299406517,
          0.125223148439006,
          0.402829030561488,
          -0.644725983097092,
          -0.125024565346589,
          0.122509414877926,
          -0.117159122572216,
          -0.414896196261272,
          0.667010909236402,
          -0.323341542211205,
          0.195800676442436,
          0.920280892517893,
          -0.419813896561999,
          0.764522987550377,
          -0.200450391687225,
          -0.55655771380751,
          -0.817012805111886,
          -0.307481598054774,
          0.518372391847711,
          -0.0522216419534324,
          -0.0891407688754548,
          -0.376213459453058,
          -0.185552176146169,
          0.0452703118049876,
          -2.04640660336104,
          0.142624578327731,
          0.217884224653961,
          -0.262772779044171,
          -0.392743472179356,
          -0.152963735156414,
          -0.308434594884213,
          -0.443331282774128,
          0.559985594073934,
          -0.778445111924726,
          0.00291103772014825,
          0.878565647971821,
          -0.256930499000692,
          0.106636130049651,
          0.263023271301074,
          -0.848661483702527,
          -2.41274778914931,
          0.111993914007595,
          -1.5751001895214,
          -0.613221147103123,
          -0.183816194525588,
          -0.0951863339009769,
          -0.197407853093086,
          0.0577566802760603,
          -0.204539823602067,
          0.360912290485671,
          -0.0410813411605664,
          -1.67968565591973,
          -0.335028542147327,
          0.414599190404883,
          0.398756392775222,
          -0.0214172068763818,
          -0.407777798342725,
          0.137821731307878,
          -0.0654821026982211,
          -0.721912456145992,
          -2.07619414954803,
          -2.18751664037211,
          -0.11972063948537,
          0.10808938448526,
          0.0856221746993185,
          -0.660248501392843,
          0.486436846381095,
          -0.28266599485881,
          -0.656915674428285,
          -0.0959839891294414,
          0.567023048354512,
          -1.31006571799162,
          1.13367514460339,
          -0.37462009367161,
          -0.0882190485399166,
          -0.366464808541563,
          0.378566605790398,
          -1.2811001910453,
          -0.462213860714353,
          -0.221525979700414,
          -0.767846621637193,
          -0.228390635621761,
          -0.653706799045404,
          -0.206821060457646,
          -2.28497955503337,
          -0.474856259090633,
          -0.0453717649712496,
          -0.709988961904898,
          0.884545558214667,
          1.05557165018865,
          0.872624954343398,
          0.427147660303257,
          0.204898647470406,
          -0.172981388528198,
          -1.04231905579272,
          0.105330755657552,
          -0.0364707620161139,
          0.0147315986681518,
          0.164811724028962,
          0.405739102948624,
          -0.0515259327825909,
          -1.45041108194038,
          -0.797775408401822,
          -0.420441119348396,
          0.148730085791825,
          -1.65439614364615,
          0.123099745855633,
          -0.882529286727313,
          -0.202186253686245,
          -2.46134068800087,
          -0.0365213174471908,
          -0.476107082766443,
          0.130861021802204,
          -0.580202218502463,
          -0.375980352154764,
          0.873127955012507,
          -1.15937100968576
         ],
         "xaxis": "x",
         "y": [
          1.22134530320384,
          1.56239592449128,
          0.921072165138784,
          0.619767465541004,
          1.10944063877699,
          1.02574324318762,
          0.974854417635832,
          1.44378449089036,
          0.67384451671234,
          2.74219238560352,
          0.733069928570148,
          2.29796093295549,
          0.823154359689919,
          1.7295137874625,
          2.49300606083952,
          1.53374220909852,
          1.87508167643949,
          2.13126284536764,
          2.37500357939566,
          0.4754874626989,
          1.32648867332763,
          2.51852029397605,
          0.171075479369506,
          2.54204914836556,
          2.00372610905544,
          0.81409488853711,
          2.87772459691337,
          0.271951143982723,
          0.495924901657298,
          2.3135992655951,
          1.10754480056025,
          2.61729223829357,
          0.954502725050198,
          3.10209136481352,
          0.632175514292634,
          0.725781341889401,
          1.86042125160628,
          2.73299470572279,
          1.27680423497737,
          0.920445134663086,
          0.7958071087491,
          0.749413480812492,
          1.14285779774138,
          0.999354716011732,
          1.30449333429873,
          1.20634140606149,
          1.29306998631839,
          2.73570473850442,
          0.171197394520336,
          0.685852110209349,
          0.2903518963329,
          1.95246043302185,
          1.17634595003463,
          2.63190361397327,
          1.01921892792935,
          0.632780279051705,
          2.03619486150151,
          0.933769474337435,
          1.34032051703064,
          0.750718278326924,
          1.20988055252001,
          0.594430318070608,
          0.915164135655217,
          2.68485101770858,
          1.12862284849947,
          1.14583204172884,
          1.09193081673849,
          3.10411731926305,
          0.848733736775521,
          1.00659220415066,
          0.106574959049199,
          1.70457752218246,
          0.277160947604507,
          0.787972492206155,
          1.61404577705731,
          2.65609878011815,
          2.2666868972584,
          1.59170534624135,
          1.91846738563112,
          2.31815604101098,
          3.56856180544402,
          0.793146108496185,
          2.17265707623045,
          1.02379892650343,
          1.03783690300666,
          0.407156531969976,
          2.38648557396108,
          2.5436596197055,
          1.33727320272511,
          0.226014805816382,
          1.55619073245446,
          0.639555638368627,
          1.63493665735755,
          0.935928805334338,
          0.832502840166526,
          0.636208571220306,
          0.825398949540176,
          1.31947881606818,
          1.51297128257285,
          1.23967181253111,
          1.14202419588134,
          1.05741688533421,
          0.710072807880766,
          1.39429475350813,
          0.930751730428528,
          0.705457629580737,
          0.837793024286457,
          1.45891620125888,
          0.348612563391087,
          0.299383442314548,
          1.13515761639336,
          -0.279656874506229,
          0.732629391972008,
          1.30016575884308,
          1.37424172975457,
          0.600807012737275,
          2.51026387013278,
          0.894505802368102,
          1.39559806874246,
          1.22349527642813,
          1.34804317190085,
          1.61623094247131,
          0.204548253002303,
          0.950345028608157,
          1.12797549271742,
          2.1037561499471,
          1.0046096337541,
          1.29675358084876,
          0.980307141171275,
          0.528213483269454,
          1.22782327403443,
          1.26668939932374,
          0.959838993946066,
          0.588009715512682,
          2.60184083230963,
          2.59649552566908,
          0.451285087858727,
          1.12888050856698,
          0.305985290184502,
          1.02210784646806,
          1.13400243003218,
          0.953905305734864,
          2.72702090766505,
          1.70558055574531,
          1.73380235316174,
          1.79715246994205,
          1.24567640765825,
          0.897228099467897,
          1.98502531176568,
          -0.00593180577588948,
          1.58873800816582,
          1.0791292384075,
          1.21747217361587,
          1.48769277880538,
          2.00811550104692,
          1.19616820337039,
          0.415267053961969,
          1.29030996498609,
          1.35425827849543,
          1.04926274038355,
          1.97519047077594,
          1.57920723668429,
          1.20963831562312,
          1.6576361357988,
          1.05070837937926,
          -0.289019908581884,
          0.742116116078059,
          0.933876862644036,
          1.20146692486729,
          0.360884390676445,
          1.72715318002346,
          1.3556539583376,
          1.52565266866653,
          0.595425374671883,
          3.11330391010599,
          0.88187115119512,
          0.752246828554789,
          1.64951776813502,
          1.45677347946852,
          1.56270505396944,
          1.75689923666271,
          1.98029252522278,
          1.17989595414942,
          1.81482319573317,
          1.62295011874497,
          1.23660620038195,
          0.884043351004991,
          2.90052857688239,
          1.66317302424411,
          1.15799581361209,
          2.50954582521607,
          3.87335148713437,
          1.08212758026752,
          0.929128589900525,
          0.264818829305995,
          0.468885297641863,
          0.945542697692527,
          0.843711905343365,
          1.20528156413835,
          1.74582541854328
         ],
         "yaxis": "y"
        }
       ],
       "layout": {
        "coloraxis": {
         "colorbar": {
          "title": {
           "text": "classe"
          }
         },
         "colorscale": [
          [
           0,
           "#0d0887"
          ],
          [
           0.1111111111111111,
           "#46039f"
          ],
          [
           0.2222222222222222,
           "#7201a8"
          ],
          [
           0.3333333333333333,
           "#9c179e"
          ],
          [
           0.4444444444444444,
           "#bd3786"
          ],
          [
           0.5555555555555556,
           "#d8576b"
          ],
          [
           0.6666666666666666,
           "#ed7953"
          ],
          [
           0.7777777777777778,
           "#fb9f3a"
          ],
          [
           0.8888888888888888,
           "#fdca26"
          ],
          [
           1,
           "#f0f921"
          ]
         ]
        },
        "legend": {
         "tracegroupgap": 0
        },
        "template": {
         "data": {
          "bar": [
           {
            "error_x": {
             "color": "#2a3f5f"
            },
            "error_y": {
             "color": "#2a3f5f"
            },
            "marker": {
             "line": {
              "color": "#E5ECF6",
              "width": 0.5
             },
             "pattern": {
              "fillmode": "overlay",
              "size": 10,
              "solidity": 0.2
             }
            },
            "type": "bar"
           }
          ],
          "barpolar": [
           {
            "marker": {
             "line": {
              "color": "#E5ECF6",
              "width": 0.5
             },
             "pattern": {
              "fillmode": "overlay",
              "size": 10,
              "solidity": 0.2
             }
            },
            "type": "barpolar"
           }
          ],
          "carpet": [
           {
            "aaxis": {
             "endlinecolor": "#2a3f5f",
             "gridcolor": "white",
             "linecolor": "white",
             "minorgridcolor": "white",
             "startlinecolor": "#2a3f5f"
            },
            "baxis": {
             "endlinecolor": "#2a3f5f",
             "gridcolor": "white",
             "linecolor": "white",
             "minorgridcolor": "white",
             "startlinecolor": "#2a3f5f"
            },
            "type": "carpet"
           }
          ],
          "choropleth": [
           {
            "colorbar": {
             "outlinewidth": 0,
             "ticks": ""
            },
            "type": "choropleth"
           }
          ],
          "contour": [
           {
            "colorbar": {
             "outlinewidth": 0,
             "ticks": ""
            },
            "colorscale": [
             [
              0,
              "#0d0887"
             ],
             [
              0.1111111111111111,
              "#46039f"
             ],
             [
              0.2222222222222222,
              "#7201a8"
             ],
             [
              0.3333333333333333,
              "#9c179e"
             ],
             [
              0.4444444444444444,
              "#bd3786"
             ],
             [
              0.5555555555555556,
              "#d8576b"
             ],
             [
              0.6666666666666666,
              "#ed7953"
             ],
             [
              0.7777777777777778,
              "#fb9f3a"
             ],
             [
              0.8888888888888888,
              "#fdca26"
             ],
             [
              1,
              "#f0f921"
             ]
            ],
            "type": "contour"
           }
          ],
          "contourcarpet": [
           {
            "colorbar": {
             "outlinewidth": 0,
             "ticks": ""
            },
            "type": "contourcarpet"
           }
          ],
          "heatmap": [
           {
            "colorbar": {
             "outlinewidth": 0,
             "ticks": ""
            },
            "colorscale": [
             [
              0,
              "#0d0887"
             ],
             [
              0.1111111111111111,
              "#46039f"
             ],
             [
              0.2222222222222222,
              "#7201a8"
             ],
             [
              0.3333333333333333,
              "#9c179e"
             ],
             [
              0.4444444444444444,
              "#bd3786"
             ],
             [
              0.5555555555555556,
              "#d8576b"
             ],
             [
              0.6666666666666666,
              "#ed7953"
             ],
             [
              0.7777777777777778,
              "#fb9f3a"
             ],
             [
              0.8888888888888888,
              "#fdca26"
             ],
             [
              1,
              "#f0f921"
             ]
            ],
            "type": "heatmap"
           }
          ],
          "heatmapgl": [
           {
            "colorbar": {
             "outlinewidth": 0,
             "ticks": ""
            },
            "colorscale": [
             [
              0,
              "#0d0887"
             ],
             [
              0.1111111111111111,
              "#46039f"
             ],
             [
              0.2222222222222222,
              "#7201a8"
             ],
             [
              0.3333333333333333,
              "#9c179e"
             ],
             [
              0.4444444444444444,
              "#bd3786"
             ],
             [
              0.5555555555555556,
              "#d8576b"
             ],
             [
              0.6666666666666666,
              "#ed7953"
             ],
             [
              0.7777777777777778,
              "#fb9f3a"
             ],
             [
              0.8888888888888888,
              "#fdca26"
             ],
             [
              1,
              "#f0f921"
             ]
            ],
            "type": "heatmapgl"
           }
          ],
          "histogram": [
           {
            "marker": {
             "pattern": {
              "fillmode": "overlay",
              "size": 10,
              "solidity": 0.2
             }
            },
            "type": "histogram"
           }
          ],
          "histogram2d": [
           {
            "colorbar": {
             "outlinewidth": 0,
             "ticks": ""
            },
            "colorscale": [
             [
              0,
              "#0d0887"
             ],
             [
              0.1111111111111111,
              "#46039f"
             ],
             [
              0.2222222222222222,
              "#7201a8"
             ],
             [
              0.3333333333333333,
              "#9c179e"
             ],
             [
              0.4444444444444444,
              "#bd3786"
             ],
             [
              0.5555555555555556,
              "#d8576b"
             ],
             [
              0.6666666666666666,
              "#ed7953"
             ],
             [
              0.7777777777777778,
              "#fb9f3a"
             ],
             [
              0.8888888888888888,
              "#fdca26"
             ],
             [
              1,
              "#f0f921"
             ]
            ],
            "type": "histogram2d"
           }
          ],
          "histogram2dcontour": [
           {
            "colorbar": {
             "outlinewidth": 0,
             "ticks": ""
            },
            "colorscale": [
             [
              0,
              "#0d0887"
             ],
             [
              0.1111111111111111,
              "#46039f"
             ],
             [
              0.2222222222222222,
              "#7201a8"
             ],
             [
              0.3333333333333333,
              "#9c179e"
             ],
             [
              0.4444444444444444,
              "#bd3786"
             ],
             [
              0.5555555555555556,
              "#d8576b"
             ],
             [
              0.6666666666666666,
              "#ed7953"
             ],
             [
              0.7777777777777778,
              "#fb9f3a"
             ],
             [
              0.8888888888888888,
              "#fdca26"
             ],
             [
              1,
              "#f0f921"
             ]
            ],
            "type": "histogram2dcontour"
           }
          ],
          "mesh3d": [
           {
            "colorbar": {
             "outlinewidth": 0,
             "ticks": ""
            },
            "type": "mesh3d"
           }
          ],
          "parcoords": [
           {
            "line": {
             "colorbar": {
              "outlinewidth": 0,
              "ticks": ""
             }
            },
            "type": "parcoords"
           }
          ],
          "pie": [
           {
            "automargin": true,
            "type": "pie"
           }
          ],
          "scatter": [
           {
            "fillpattern": {
             "fillmode": "overlay",
             "size": 10,
             "solidity": 0.2
            },
            "type": "scatter"
           }
          ],
          "scatter3d": [
           {
            "line": {
             "colorbar": {
              "outlinewidth": 0,
              "ticks": ""
             }
            },
            "marker": {
             "colorbar": {
              "outlinewidth": 0,
              "ticks": ""
             }
            },
            "type": "scatter3d"
           }
          ],
          "scattercarpet": [
           {
            "marker": {
             "colorbar": {
              "outlinewidth": 0,
              "ticks": ""
             }
            },
            "type": "scattercarpet"
           }
          ],
          "scattergeo": [
           {
            "marker": {
             "colorbar": {
              "outlinewidth": 0,
              "ticks": ""
             }
            },
            "type": "scattergeo"
           }
          ],
          "scattergl": [
           {
            "marker": {
             "colorbar": {
              "outlinewidth": 0,
              "ticks": ""
             }
            },
            "type": "scattergl"
           }
          ],
          "scattermapbox": [
           {
            "marker": {
             "colorbar": {
              "outlinewidth": 0,
              "ticks": ""
             }
            },
            "type": "scattermapbox"
           }
          ],
          "scatterpolar": [
           {
            "marker": {
             "colorbar": {
              "outlinewidth": 0,
              "ticks": ""
             }
            },
            "type": "scatterpolar"
           }
          ],
          "scatterpolargl": [
           {
            "marker": {
             "colorbar": {
              "outlinewidth": 0,
              "ticks": ""
             }
            },
            "type": "scatterpolargl"
           }
          ],
          "scatterternary": [
           {
            "marker": {
             "colorbar": {
              "outlinewidth": 0,
              "ticks": ""
             }
            },
            "type": "scatterternary"
           }
          ],
          "surface": [
           {
            "colorbar": {
             "outlinewidth": 0,
             "ticks": ""
            },
            "colorscale": [
             [
              0,
              "#0d0887"
             ],
             [
              0.1111111111111111,
              "#46039f"
             ],
             [
              0.2222222222222222,
              "#7201a8"
             ],
             [
              0.3333333333333333,
              "#9c179e"
             ],
             [
              0.4444444444444444,
              "#bd3786"
             ],
             [
              0.5555555555555556,
              "#d8576b"
             ],
             [
              0.6666666666666666,
              "#ed7953"
             ],
             [
              0.7777777777777778,
              "#fb9f3a"
             ],
             [
              0.8888888888888888,
              "#fdca26"
             ],
             [
              1,
              "#f0f921"
             ]
            ],
            "type": "surface"
           }
          ],
          "table": [
           {
            "cells": {
             "fill": {
              "color": "#EBF0F8"
             },
             "line": {
              "color": "white"
             }
            },
            "header": {
             "fill": {
              "color": "#C8D4E3"
             },
             "line": {
              "color": "white"
             }
            },
            "type": "table"
           }
          ]
         },
         "layout": {
          "annotationdefaults": {
           "arrowcolor": "#2a3f5f",
           "arrowhead": 0,
           "arrowwidth": 1
          },
          "autotypenumbers": "strict",
          "coloraxis": {
           "colorbar": {
            "outlinewidth": 0,
            "ticks": ""
           }
          },
          "colorscale": {
           "diverging": [
            [
             0,
             "#8e0152"
            ],
            [
             0.1,
             "#c51b7d"
            ],
            [
             0.2,
             "#de77ae"
            ],
            [
             0.3,
             "#f1b6da"
            ],
            [
             0.4,
             "#fde0ef"
            ],
            [
             0.5,
             "#f7f7f7"
            ],
            [
             0.6,
             "#e6f5d0"
            ],
            [
             0.7,
             "#b8e186"
            ],
            [
             0.8,
             "#7fbc41"
            ],
            [
             0.9,
             "#4d9221"
            ],
            [
             1,
             "#276419"
            ]
           ],
           "sequential": [
            [
             0,
             "#0d0887"
            ],
            [
             0.1111111111111111,
             "#46039f"
            ],
            [
             0.2222222222222222,
             "#7201a8"
            ],
            [
             0.3333333333333333,
             "#9c179e"
            ],
            [
             0.4444444444444444,
             "#bd3786"
            ],
            [
             0.5555555555555556,
             "#d8576b"
            ],
            [
             0.6666666666666666,
             "#ed7953"
            ],
            [
             0.7777777777777778,
             "#fb9f3a"
            ],
            [
             0.8888888888888888,
             "#fdca26"
            ],
            [
             1,
             "#f0f921"
            ]
           ],
           "sequentialminus": [
            [
             0,
             "#0d0887"
            ],
            [
             0.1111111111111111,
             "#46039f"
            ],
            [
             0.2222222222222222,
             "#7201a8"
            ],
            [
             0.3333333333333333,
             "#9c179e"
            ],
            [
             0.4444444444444444,
             "#bd3786"
            ],
            [
             0.5555555555555556,
             "#d8576b"
            ],
            [
             0.6666666666666666,
             "#ed7953"
            ],
            [
             0.7777777777777778,
             "#fb9f3a"
            ],
            [
             0.8888888888888888,
             "#fdca26"
            ],
            [
             1,
             "#f0f921"
            ]
           ]
          },
          "colorway": [
           "#636efa",
           "#EF553B",
           "#00cc96",
           "#ab63fa",
           "#FFA15A",
           "#19d3f3",
           "#FF6692",
           "#B6E880",
           "#FF97FF",
           "#FECB52"
          ],
          "font": {
           "color": "#2a3f5f"
          },
          "geo": {
           "bgcolor": "white",
           "lakecolor": "white",
           "landcolor": "#E5ECF6",
           "showlakes": true,
           "showland": true,
           "subunitcolor": "white"
          },
          "hoverlabel": {
           "align": "left"
          },
          "hovermode": "closest",
          "mapbox": {
           "style": "light"
          },
          "paper_bgcolor": "white",
          "plot_bgcolor": "#E5ECF6",
          "polar": {
           "angularaxis": {
            "gridcolor": "white",
            "linecolor": "white",
            "ticks": ""
           },
           "bgcolor": "#E5ECF6",
           "radialaxis": {
            "gridcolor": "white",
            "linecolor": "white",
            "ticks": ""
           }
          },
          "scene": {
           "xaxis": {
            "backgroundcolor": "#E5ECF6",
            "gridcolor": "white",
            "gridwidth": 2,
            "linecolor": "white",
            "showbackground": true,
            "ticks": "",
            "zerolinecolor": "white"
           },
           "yaxis": {
            "backgroundcolor": "#E5ECF6",
            "gridcolor": "white",
            "gridwidth": 2,
            "linecolor": "white",
            "showbackground": true,
            "ticks": "",
            "zerolinecolor": "white"
           },
           "zaxis": {
            "backgroundcolor": "#E5ECF6",
            "gridcolor": "white",
            "gridwidth": 2,
            "linecolor": "white",
            "showbackground": true,
            "ticks": "",
            "zerolinecolor": "white"
           }
          },
          "shapedefaults": {
           "line": {
            "color": "#2a3f5f"
           }
          },
          "ternary": {
           "aaxis": {
            "gridcolor": "white",
            "linecolor": "white",
            "ticks": ""
           },
           "baxis": {
            "gridcolor": "white",
            "linecolor": "white",
            "ticks": ""
           },
           "bgcolor": "#E5ECF6",
           "caxis": {
            "gridcolor": "white",
            "linecolor": "white",
            "ticks": ""
           }
          },
          "title": {
           "x": 0.05
          },
          "xaxis": {
           "automargin": true,
           "gridcolor": "white",
           "linecolor": "white",
           "ticks": "",
           "title": {
            "standoff": 15
           },
           "zerolinecolor": "white",
           "zerolinewidth": 2
          },
          "yaxis": {
           "automargin": true,
           "gridcolor": "white",
           "linecolor": "white",
           "ticks": "",
           "title": {
            "standoff": 15
           },
           "zerolinecolor": "white",
           "zerolinewidth": 2
          }
         }
        },
        "title": {
         "text": "Data visualization of the test dataset"
        },
        "xaxis": {
         "anchor": "y",
         "domain": [
          0,
          1
         ],
         "title": {
          "text": "x1"
         }
        },
        "yaxis": {
         "anchor": "x",
         "domain": [
          0,
          1
         ],
         "title": {
          "text": "x2"
         }
        }
       }
      }
     },
     "metadata": {},
     "output_type": "display_data"
    }
   ],
   "source": [
    "px.scatter(df_test,x='x1',y='x2',color='classe',title='Data visualization of the test dataset')"
   ]
  },
  {
   "cell_type": "markdown",
   "metadata": {},
   "source": [
    "2. Implement the K-nearest neighbours algorithm for classification.\n",
    "\n",
    "Hint:\n",
    "\n",
    "- useful functions include numpy.linalg.norm, numpy.argsort, numpy.bincount;\n",
    "- implement the algorithm as a function rather than an object. This will drastically simplify the acceleration step using Cython.\n",
    "- for an optimized partial sorting procedure, you may have a look at the bottleneck.argpartition function."
   ]
  },
  {
   "cell_type": "markdown",
   "metadata": {},
   "source": [
    "**Answer:**"
   ]
  },
  {
   "cell_type": "code",
   "execution_count": 22,
   "metadata": {},
   "outputs": [],
   "source": [
    "class K_nearest_neighbors():\n",
    "    \"\"\"K nearest neighbors implementation.\n",
    "    \"\"\"\n",
    "    def __init__(self, train:np.ndarray, test:np.ndarray, K:int):\n",
    "        \"\"\"\n",
    "        Args:\n",
    "            train (np.ndarray): The training dataset\n",
    "            test (np.ndarray): The test dataset\n",
    "            K (int): K value in the nearest neighbors implementation, must be strictly positive.\n",
    "        \"\"\"\n",
    "        self.x_train = train[:,1:]\n",
    "        self.y_train = train[:,0]\n",
    "        self.N_train = train.shape[0]\n",
    "        self.x_test = test[:,1:]\n",
    "        self.y_test = test[:,0]\n",
    "        self.N_test = test.shape[0]\n",
    "        assert K>0, \"K must be strictly positive\"\n",
    "        self.K = K\n",
    "\n",
    "    def classifier(self, x_new:np.ndarray)->float:\n",
    "        \"\"\"Compute the classification using K nearest neighbors algorithm method.\n",
    "\n",
    "        Args:\n",
    "            x_new (np.ndarray): The input to be predicted.\n",
    "\n",
    "        Returns:\n",
    "            float: 1. if x_new is in class 1 else 2.\n",
    "        \"\"\"\n",
    "        distances = []\n",
    "        counter1 = 0\n",
    "        counter2 = 0\n",
    "        for i in range(self.N_train):\n",
    "            distances.append((np.linalg.norm(x_new-self.x_train[i]),self.y_train[i]))\n",
    "        dtype = [('distance', float), ('target', float)]\n",
    "        distances=np.array(distances,dtype=dtype)\n",
    "        distances=np.sort(distances,order='distance')  # plus petites en premier\n",
    "        for j in range(0,self.K):\n",
    "            if distances[j][1]==1.:\n",
    "                counter1+=1\n",
    "            if distances[j][1]==2.:\n",
    "                counter2+=1\n",
    "            if counter1+counter2==self.K:\n",
    "                break\n",
    "        if counter1>counter2:\n",
    "            return 1.\n",
    "        else:\n",
    "            return 2.\n",
    "\n",
    "    def predict(self)->np.ndarray:\n",
    "        \"\"\"Compute the prediction for the test dataset.\n",
    "\n",
    "        Returns:\n",
    "            np.ndarray: An array in dimension 1 with all the predictions.\n",
    "        \"\"\"\n",
    "        predictions = np.zeros(self.N_test, dtype=float)\n",
    "        for i in range(self.N_test):\n",
    "            predictions[i] = self.classifier(self.x_test[i])\n",
    "        return predictions\n",
    "\n",
    "    def error_rate(self)->float:\n",
    "        \"\"\"Compute the error rate for the test dataset.\n",
    "\n",
    "        Returns:\n",
    "            float: Error rate value, a float between 0 and 1.\n",
    "        \"\"\"\n",
    "        predictions = self.predict()\n",
    "        error_rate = 1-np.count_nonzero(predictions==self.y_test)/self.N_test\n",
    "        return error_rate\n",
    "        "
   ]
  },
  {
   "cell_type": "markdown",
   "metadata": {},
   "source": [
    "3\\. Compute the error rate on the training set and the test set for $K \\in \\{1,2, \\dotsc, 20\\}$. Display the classification result (see 1.) for the configuration with the lowest error rate."
   ]
  },
  {
   "cell_type": "markdown",
   "metadata": {},
   "source": [
    "**Answer:**"
   ]
  },
  {
   "cell_type": "code",
   "execution_count": 23,
   "metadata": {},
   "outputs": [],
   "source": [
    "def error_rate_analyse(min:int,max:int, train:np.ndarray, test:np.ndarray)->pd.DataFrame:\n",
    "    \"\"\"Make an analysis of the error rate for a train and test dataset with different values of K. Compute the error rate for K values between min and max with a step of 1.\n",
    "\n",
    "    Args:\n",
    "        min (int): The min value for K in the K nearest neighbors algorithm.\n",
    "        max (int): The max value for K in the K nearest neighbors algorithm.\n",
    "        train (np.ndarray): Training dataset.\n",
    "        test (np.ndarray): Test dataset.\n",
    "\n",
    "    Returns:\n",
    "        pd.DataFrame: Returns a DataFrame with two columns, one for the K value and a second for the error rate.\n",
    "    \"\"\"\n",
    "    K_values = np.arange(min,max+1)\n",
    "    error_rate = np.zeros(max-min+1,dtype=float)\n",
    "    for i,K in enumerate(K_values):\n",
    "        Knn_classifier = K_nearest_neighbors(train, test, K)\n",
    "        error_rate[i] = Knn_classifier.error_rate()\n",
    "    return pd.DataFrame(dict(K=K_values,error_rate=error_rate))\n",
    "    "
   ]
  },
  {
   "cell_type": "code",
   "execution_count": 24,
   "metadata": {},
   "outputs": [],
   "source": [
    "df_analyse_error_rate = error_rate_analyse(1,20,train, test)"
   ]
  },
  {
   "cell_type": "code",
   "execution_count": 25,
   "metadata": {},
   "outputs": [
    {
     "data": {
      "application/vnd.plotly.v1+json": {
       "config": {
        "plotlyServerURL": "https://plot.ly"
       },
       "data": [
        {
         "hovertemplate": "K=%{x}<br>error_rate=%{y}<extra></extra>",
         "legendgroup": "",
         "line": {
          "color": "#636efa",
          "dash": "solid"
         },
         "marker": {
          "symbol": "circle"
         },
         "mode": "lines",
         "name": "",
         "orientation": "v",
         "showlegend": false,
         "type": "scatter",
         "x": [
          1,
          2,
          3,
          4,
          5,
          6,
          7,
          8,
          9,
          10,
          11,
          12,
          13,
          14,
          15,
          16,
          17,
          18,
          19,
          20
         ],
         "xaxis": "x",
         "y": [
          0.06499999999999995,
          0.08999999999999997,
          0.04500000000000004,
          0.07499999999999996,
          0.06000000000000005,
          0.07499999999999996,
          0.06999999999999995,
          0.07999999999999996,
          0.07499999999999996,
          0.08999999999999997,
          0.08999999999999997,
          0.08999999999999997,
          0.07999999999999996,
          0.07999999999999996,
          0.07499999999999996,
          0.08499999999999996,
          0.07999999999999996,
          0.08999999999999997,
          0.07999999999999996,
          0.10499999999999998
         ],
         "yaxis": "y"
        }
       ],
       "layout": {
        "legend": {
         "tracegroupgap": 0
        },
        "template": {
         "data": {
          "bar": [
           {
            "error_x": {
             "color": "#2a3f5f"
            },
            "error_y": {
             "color": "#2a3f5f"
            },
            "marker": {
             "line": {
              "color": "#E5ECF6",
              "width": 0.5
             },
             "pattern": {
              "fillmode": "overlay",
              "size": 10,
              "solidity": 0.2
             }
            },
            "type": "bar"
           }
          ],
          "barpolar": [
           {
            "marker": {
             "line": {
              "color": "#E5ECF6",
              "width": 0.5
             },
             "pattern": {
              "fillmode": "overlay",
              "size": 10,
              "solidity": 0.2
             }
            },
            "type": "barpolar"
           }
          ],
          "carpet": [
           {
            "aaxis": {
             "endlinecolor": "#2a3f5f",
             "gridcolor": "white",
             "linecolor": "white",
             "minorgridcolor": "white",
             "startlinecolor": "#2a3f5f"
            },
            "baxis": {
             "endlinecolor": "#2a3f5f",
             "gridcolor": "white",
             "linecolor": "white",
             "minorgridcolor": "white",
             "startlinecolor": "#2a3f5f"
            },
            "type": "carpet"
           }
          ],
          "choropleth": [
           {
            "colorbar": {
             "outlinewidth": 0,
             "ticks": ""
            },
            "type": "choropleth"
           }
          ],
          "contour": [
           {
            "colorbar": {
             "outlinewidth": 0,
             "ticks": ""
            },
            "colorscale": [
             [
              0,
              "#0d0887"
             ],
             [
              0.1111111111111111,
              "#46039f"
             ],
             [
              0.2222222222222222,
              "#7201a8"
             ],
             [
              0.3333333333333333,
              "#9c179e"
             ],
             [
              0.4444444444444444,
              "#bd3786"
             ],
             [
              0.5555555555555556,
              "#d8576b"
             ],
             [
              0.6666666666666666,
              "#ed7953"
             ],
             [
              0.7777777777777778,
              "#fb9f3a"
             ],
             [
              0.8888888888888888,
              "#fdca26"
             ],
             [
              1,
              "#f0f921"
             ]
            ],
            "type": "contour"
           }
          ],
          "contourcarpet": [
           {
            "colorbar": {
             "outlinewidth": 0,
             "ticks": ""
            },
            "type": "contourcarpet"
           }
          ],
          "heatmap": [
           {
            "colorbar": {
             "outlinewidth": 0,
             "ticks": ""
            },
            "colorscale": [
             [
              0,
              "#0d0887"
             ],
             [
              0.1111111111111111,
              "#46039f"
             ],
             [
              0.2222222222222222,
              "#7201a8"
             ],
             [
              0.3333333333333333,
              "#9c179e"
             ],
             [
              0.4444444444444444,
              "#bd3786"
             ],
             [
              0.5555555555555556,
              "#d8576b"
             ],
             [
              0.6666666666666666,
              "#ed7953"
             ],
             [
              0.7777777777777778,
              "#fb9f3a"
             ],
             [
              0.8888888888888888,
              "#fdca26"
             ],
             [
              1,
              "#f0f921"
             ]
            ],
            "type": "heatmap"
           }
          ],
          "heatmapgl": [
           {
            "colorbar": {
             "outlinewidth": 0,
             "ticks": ""
            },
            "colorscale": [
             [
              0,
              "#0d0887"
             ],
             [
              0.1111111111111111,
              "#46039f"
             ],
             [
              0.2222222222222222,
              "#7201a8"
             ],
             [
              0.3333333333333333,
              "#9c179e"
             ],
             [
              0.4444444444444444,
              "#bd3786"
             ],
             [
              0.5555555555555556,
              "#d8576b"
             ],
             [
              0.6666666666666666,
              "#ed7953"
             ],
             [
              0.7777777777777778,
              "#fb9f3a"
             ],
             [
              0.8888888888888888,
              "#fdca26"
             ],
             [
              1,
              "#f0f921"
             ]
            ],
            "type": "heatmapgl"
           }
          ],
          "histogram": [
           {
            "marker": {
             "pattern": {
              "fillmode": "overlay",
              "size": 10,
              "solidity": 0.2
             }
            },
            "type": "histogram"
           }
          ],
          "histogram2d": [
           {
            "colorbar": {
             "outlinewidth": 0,
             "ticks": ""
            },
            "colorscale": [
             [
              0,
              "#0d0887"
             ],
             [
              0.1111111111111111,
              "#46039f"
             ],
             [
              0.2222222222222222,
              "#7201a8"
             ],
             [
              0.3333333333333333,
              "#9c179e"
             ],
             [
              0.4444444444444444,
              "#bd3786"
             ],
             [
              0.5555555555555556,
              "#d8576b"
             ],
             [
              0.6666666666666666,
              "#ed7953"
             ],
             [
              0.7777777777777778,
              "#fb9f3a"
             ],
             [
              0.8888888888888888,
              "#fdca26"
             ],
             [
              1,
              "#f0f921"
             ]
            ],
            "type": "histogram2d"
           }
          ],
          "histogram2dcontour": [
           {
            "colorbar": {
             "outlinewidth": 0,
             "ticks": ""
            },
            "colorscale": [
             [
              0,
              "#0d0887"
             ],
             [
              0.1111111111111111,
              "#46039f"
             ],
             [
              0.2222222222222222,
              "#7201a8"
             ],
             [
              0.3333333333333333,
              "#9c179e"
             ],
             [
              0.4444444444444444,
              "#bd3786"
             ],
             [
              0.5555555555555556,
              "#d8576b"
             ],
             [
              0.6666666666666666,
              "#ed7953"
             ],
             [
              0.7777777777777778,
              "#fb9f3a"
             ],
             [
              0.8888888888888888,
              "#fdca26"
             ],
             [
              1,
              "#f0f921"
             ]
            ],
            "type": "histogram2dcontour"
           }
          ],
          "mesh3d": [
           {
            "colorbar": {
             "outlinewidth": 0,
             "ticks": ""
            },
            "type": "mesh3d"
           }
          ],
          "parcoords": [
           {
            "line": {
             "colorbar": {
              "outlinewidth": 0,
              "ticks": ""
             }
            },
            "type": "parcoords"
           }
          ],
          "pie": [
           {
            "automargin": true,
            "type": "pie"
           }
          ],
          "scatter": [
           {
            "fillpattern": {
             "fillmode": "overlay",
             "size": 10,
             "solidity": 0.2
            },
            "type": "scatter"
           }
          ],
          "scatter3d": [
           {
            "line": {
             "colorbar": {
              "outlinewidth": 0,
              "ticks": ""
             }
            },
            "marker": {
             "colorbar": {
              "outlinewidth": 0,
              "ticks": ""
             }
            },
            "type": "scatter3d"
           }
          ],
          "scattercarpet": [
           {
            "marker": {
             "colorbar": {
              "outlinewidth": 0,
              "ticks": ""
             }
            },
            "type": "scattercarpet"
           }
          ],
          "scattergeo": [
           {
            "marker": {
             "colorbar": {
              "outlinewidth": 0,
              "ticks": ""
             }
            },
            "type": "scattergeo"
           }
          ],
          "scattergl": [
           {
            "marker": {
             "colorbar": {
              "outlinewidth": 0,
              "ticks": ""
             }
            },
            "type": "scattergl"
           }
          ],
          "scattermapbox": [
           {
            "marker": {
             "colorbar": {
              "outlinewidth": 0,
              "ticks": ""
             }
            },
            "type": "scattermapbox"
           }
          ],
          "scatterpolar": [
           {
            "marker": {
             "colorbar": {
              "outlinewidth": 0,
              "ticks": ""
             }
            },
            "type": "scatterpolar"
           }
          ],
          "scatterpolargl": [
           {
            "marker": {
             "colorbar": {
              "outlinewidth": 0,
              "ticks": ""
             }
            },
            "type": "scatterpolargl"
           }
          ],
          "scatterternary": [
           {
            "marker": {
             "colorbar": {
              "outlinewidth": 0,
              "ticks": ""
             }
            },
            "type": "scatterternary"
           }
          ],
          "surface": [
           {
            "colorbar": {
             "outlinewidth": 0,
             "ticks": ""
            },
            "colorscale": [
             [
              0,
              "#0d0887"
             ],
             [
              0.1111111111111111,
              "#46039f"
             ],
             [
              0.2222222222222222,
              "#7201a8"
             ],
             [
              0.3333333333333333,
              "#9c179e"
             ],
             [
              0.4444444444444444,
              "#bd3786"
             ],
             [
              0.5555555555555556,
              "#d8576b"
             ],
             [
              0.6666666666666666,
              "#ed7953"
             ],
             [
              0.7777777777777778,
              "#fb9f3a"
             ],
             [
              0.8888888888888888,
              "#fdca26"
             ],
             [
              1,
              "#f0f921"
             ]
            ],
            "type": "surface"
           }
          ],
          "table": [
           {
            "cells": {
             "fill": {
              "color": "#EBF0F8"
             },
             "line": {
              "color": "white"
             }
            },
            "header": {
             "fill": {
              "color": "#C8D4E3"
             },
             "line": {
              "color": "white"
             }
            },
            "type": "table"
           }
          ]
         },
         "layout": {
          "annotationdefaults": {
           "arrowcolor": "#2a3f5f",
           "arrowhead": 0,
           "arrowwidth": 1
          },
          "autotypenumbers": "strict",
          "coloraxis": {
           "colorbar": {
            "outlinewidth": 0,
            "ticks": ""
           }
          },
          "colorscale": {
           "diverging": [
            [
             0,
             "#8e0152"
            ],
            [
             0.1,
             "#c51b7d"
            ],
            [
             0.2,
             "#de77ae"
            ],
            [
             0.3,
             "#f1b6da"
            ],
            [
             0.4,
             "#fde0ef"
            ],
            [
             0.5,
             "#f7f7f7"
            ],
            [
             0.6,
             "#e6f5d0"
            ],
            [
             0.7,
             "#b8e186"
            ],
            [
             0.8,
             "#7fbc41"
            ],
            [
             0.9,
             "#4d9221"
            ],
            [
             1,
             "#276419"
            ]
           ],
           "sequential": [
            [
             0,
             "#0d0887"
            ],
            [
             0.1111111111111111,
             "#46039f"
            ],
            [
             0.2222222222222222,
             "#7201a8"
            ],
            [
             0.3333333333333333,
             "#9c179e"
            ],
            [
             0.4444444444444444,
             "#bd3786"
            ],
            [
             0.5555555555555556,
             "#d8576b"
            ],
            [
             0.6666666666666666,
             "#ed7953"
            ],
            [
             0.7777777777777778,
             "#fb9f3a"
            ],
            [
             0.8888888888888888,
             "#fdca26"
            ],
            [
             1,
             "#f0f921"
            ]
           ],
           "sequentialminus": [
            [
             0,
             "#0d0887"
            ],
            [
             0.1111111111111111,
             "#46039f"
            ],
            [
             0.2222222222222222,
             "#7201a8"
            ],
            [
             0.3333333333333333,
             "#9c179e"
            ],
            [
             0.4444444444444444,
             "#bd3786"
            ],
            [
             0.5555555555555556,
             "#d8576b"
            ],
            [
             0.6666666666666666,
             "#ed7953"
            ],
            [
             0.7777777777777778,
             "#fb9f3a"
            ],
            [
             0.8888888888888888,
             "#fdca26"
            ],
            [
             1,
             "#f0f921"
            ]
           ]
          },
          "colorway": [
           "#636efa",
           "#EF553B",
           "#00cc96",
           "#ab63fa",
           "#FFA15A",
           "#19d3f3",
           "#FF6692",
           "#B6E880",
           "#FF97FF",
           "#FECB52"
          ],
          "font": {
           "color": "#2a3f5f"
          },
          "geo": {
           "bgcolor": "white",
           "lakecolor": "white",
           "landcolor": "#E5ECF6",
           "showlakes": true,
           "showland": true,
           "subunitcolor": "white"
          },
          "hoverlabel": {
           "align": "left"
          },
          "hovermode": "closest",
          "mapbox": {
           "style": "light"
          },
          "paper_bgcolor": "white",
          "plot_bgcolor": "#E5ECF6",
          "polar": {
           "angularaxis": {
            "gridcolor": "white",
            "linecolor": "white",
            "ticks": ""
           },
           "bgcolor": "#E5ECF6",
           "radialaxis": {
            "gridcolor": "white",
            "linecolor": "white",
            "ticks": ""
           }
          },
          "scene": {
           "xaxis": {
            "backgroundcolor": "#E5ECF6",
            "gridcolor": "white",
            "gridwidth": 2,
            "linecolor": "white",
            "showbackground": true,
            "ticks": "",
            "zerolinecolor": "white"
           },
           "yaxis": {
            "backgroundcolor": "#E5ECF6",
            "gridcolor": "white",
            "gridwidth": 2,
            "linecolor": "white",
            "showbackground": true,
            "ticks": "",
            "zerolinecolor": "white"
           },
           "zaxis": {
            "backgroundcolor": "#E5ECF6",
            "gridcolor": "white",
            "gridwidth": 2,
            "linecolor": "white",
            "showbackground": true,
            "ticks": "",
            "zerolinecolor": "white"
           }
          },
          "shapedefaults": {
           "line": {
            "color": "#2a3f5f"
           }
          },
          "ternary": {
           "aaxis": {
            "gridcolor": "white",
            "linecolor": "white",
            "ticks": ""
           },
           "baxis": {
            "gridcolor": "white",
            "linecolor": "white",
            "ticks": ""
           },
           "bgcolor": "#E5ECF6",
           "caxis": {
            "gridcolor": "white",
            "linecolor": "white",
            "ticks": ""
           }
          },
          "title": {
           "x": 0.05
          },
          "xaxis": {
           "automargin": true,
           "gridcolor": "white",
           "linecolor": "white",
           "ticks": "",
           "title": {
            "standoff": 15
           },
           "zerolinecolor": "white",
           "zerolinewidth": 2
          },
          "yaxis": {
           "automargin": true,
           "gridcolor": "white",
           "linecolor": "white",
           "ticks": "",
           "title": {
            "standoff": 15
           },
           "zerolinecolor": "white",
           "zerolinewidth": 2
          }
         }
        },
        "title": {
         "text": "Evolution of the error rate"
        },
        "xaxis": {
         "anchor": "y",
         "domain": [
          0,
          1
         ],
         "title": {
          "text": "K"
         }
        },
        "yaxis": {
         "anchor": "x",
         "domain": [
          0,
          1
         ],
         "title": {
          "text": "error_rate"
         }
        }
       }
      }
     },
     "metadata": {},
     "output_type": "display_data"
    }
   ],
   "source": [
    "px.line(df_analyse_error_rate,x='K', y='error_rate', title='Evolution of the error rate')"
   ]
  },
  {
   "cell_type": "markdown",
   "metadata": {},
   "source": [
    "The best K value is 3."
   ]
  },
  {
   "cell_type": "markdown",
   "metadata": {},
   "source": [
    "We obtain this classification :"
   ]
  },
  {
   "cell_type": "code",
   "execution_count": 26,
   "metadata": {},
   "outputs": [
    {
     "data": {
      "application/vnd.plotly.v1+json": {
       "config": {
        "plotlyServerURL": "https://plot.ly"
       },
       "data": [
        {
         "hovertemplate": "x1=%{x}<br>x2=%{y}<br>predictions=%{marker.color}<extra></extra>",
         "legendgroup": "",
         "marker": {
          "color": [
           2,
           2,
           2,
           2,
           2,
           2,
           2,
           2,
           2,
           1,
           2,
           1,
           1,
           2,
           1,
           2,
           2,
           1,
           1,
           2,
           2,
           1,
           2,
           1,
           2,
           2,
           1,
           2,
           2,
           1,
           2,
           1,
           2,
           1,
           2,
           2,
           1,
           1,
           2,
           2,
           1,
           2,
           2,
           2,
           2,
           2,
           2,
           1,
           1,
           2,
           2,
           1,
           1,
           1,
           2,
           2,
           1,
           2,
           2,
           2,
           2,
           2,
           2,
           1,
           2,
           2,
           2,
           1,
           2,
           2,
           2,
           1,
           2,
           2,
           1,
           1,
           2,
           2,
           1,
           1,
           1,
           2,
           1,
           2,
           2,
           2,
           1,
           1,
           2,
           2,
           2,
           2,
           2,
           2,
           2,
           2,
           2,
           2,
           1,
           2,
           2,
           2,
           2,
           2,
           2,
           2,
           2,
           1,
           2,
           2,
           2,
           2,
           2,
           2,
           2,
           2,
           1,
           2,
           2,
           2,
           2,
           2,
           2,
           1,
           2,
           1,
           2,
           2,
           2,
           2,
           2,
           2,
           2,
           2,
           1,
           1,
           2,
           2,
           2,
           2,
           2,
           2,
           1,
           1,
           1,
           2,
           2,
           2,
           1,
           2,
           2,
           2,
           2,
           2,
           1,
           2,
           2,
           2,
           2,
           2,
           1,
           2,
           2,
           1,
           2,
           2,
           2,
           1,
           2,
           2,
           1,
           2,
           2,
           2,
           1,
           2,
           2,
           1,
           2,
           2,
           2,
           2,
           2,
           2,
           1,
           2,
           2,
           1,
           1,
           2,
           1,
           1,
           1,
           2,
           2,
           2,
           2,
           2,
           2,
           1
          ],
          "coloraxis": "coloraxis",
          "symbol": "circle"
         },
         "mode": "markers",
         "name": "",
         "orientation": "v",
         "showlegend": false,
         "type": "scatter",
         "x": [
          0.548377329092262,
          -0.516182355090629,
          -0.928778331455398,
          0.0700040451666702,
          0.267028434070118,
          -0.57664073495068,
          -0.571998215013911,
          0.085910428686603,
          0.583964255424017,
          -1.06711927670054,
          -0.0562649176241551,
          -0.524936248287615,
          -1.23658248867188,
          -0.0778122418747806,
          -0.313748143992697,
          0.320501890715898,
          -0.0673953040731805,
          -1.47557179462652,
          -0.763320669217402,
          0.248011555664068,
          0.0507678126302484,
          -0.963208133408971,
          -0.0377217560626707,
          -0.845406922022226,
          -0.273976475842833,
          0.38706980512753,
          -0.515453361384079,
          -0.236570845966961,
          0.118125542055563,
          -1.57193989511746,
          0.108560055833345,
          -0.297763681076058,
          -0.082606122419637,
          -0.475767227078988,
          0.225359536365398,
          -0.450367581684656,
          -1.58918210776721,
          -0.528189115491888,
          -0.00913710710419539,
          0.0236993292805952,
          -1.12197108420919,
          -0.21084067686791,
          -0.439299420755364,
          0.253558969854388,
          0.0565460586650199,
          -0.845790721905697,
          -0.138891085533467,
          -0.76761402096743,
          -2.32044284842924,
          0.181205251422961,
          0.0616237373447102,
          -1.97950817180784,
          -1.82865193442128,
          -0.396859461129857,
          0.185940765129506,
          0.242214624825961,
          -1.75949747969882,
          -0.786570617189198,
          -0.272972303183431,
          -0.0683492981766457,
          0.37981736198006,
          0.411877216201486,
          0.624493102281784,
          0.374218223862995,
          -0.359385981243246,
          0.00204001381345192,
          -0.627939689758823,
          -0.979911850180111,
          -0.00309670876357458,
          0.472659867667311,
          -0.364861430898182,
          -1.14092922451121,
          0.598031033306676,
          -0.433484838905137,
          -0.661738017621415,
          -0.928490569809406,
          0.27261739929014,
          0.469379751784666,
          -0.982806734175102,
          -0.807872183354628,
          -0.906407397212613,
          0.31765713019852,
          -1.24450837985478,
          -0.82866299406517,
          0.125223148439006,
          0.402829030561488,
          -0.644725983097092,
          -0.125024565346589,
          0.122509414877926,
          -0.117159122572216,
          -0.414896196261272,
          0.667010909236402,
          -0.323341542211205,
          0.195800676442436,
          0.920280892517893,
          -0.419813896561999,
          0.764522987550377,
          -0.200450391687225,
          -0.55655771380751,
          -0.817012805111886,
          -0.307481598054774,
          0.518372391847711,
          -0.0522216419534324,
          -0.0891407688754548,
          -0.376213459453058,
          -0.185552176146169,
          0.0452703118049876,
          -2.04640660336104,
          0.142624578327731,
          0.217884224653961,
          -0.262772779044171,
          -0.392743472179356,
          -0.152963735156414,
          -0.308434594884213,
          -0.443331282774128,
          0.559985594073934,
          -0.778445111924726,
          0.00291103772014825,
          0.878565647971821,
          -0.256930499000692,
          0.106636130049651,
          0.263023271301074,
          -0.848661483702527,
          -2.41274778914931,
          0.111993914007595,
          -1.5751001895214,
          -0.613221147103123,
          -0.183816194525588,
          -0.0951863339009769,
          -0.197407853093086,
          0.0577566802760603,
          -0.204539823602067,
          0.360912290485671,
          -0.0410813411605664,
          -1.67968565591973,
          -0.335028542147327,
          0.414599190404883,
          0.398756392775222,
          -0.0214172068763818,
          -0.407777798342725,
          0.137821731307878,
          -0.0654821026982211,
          -0.721912456145992,
          -2.07619414954803,
          -2.18751664037211,
          -0.11972063948537,
          0.10808938448526,
          0.0856221746993185,
          -0.660248501392843,
          0.486436846381095,
          -0.28266599485881,
          -0.656915674428285,
          -0.0959839891294414,
          0.567023048354512,
          -1.31006571799162,
          1.13367514460339,
          -0.37462009367161,
          -0.0882190485399166,
          -0.366464808541563,
          0.378566605790398,
          -1.2811001910453,
          -0.462213860714353,
          -0.221525979700414,
          -0.767846621637193,
          -0.228390635621761,
          -0.653706799045404,
          -0.206821060457646,
          -2.28497955503337,
          -0.474856259090633,
          -0.0453717649712496,
          -0.709988961904898,
          0.884545558214667,
          1.05557165018865,
          0.872624954343398,
          0.427147660303257,
          0.204898647470406,
          -0.172981388528198,
          -1.04231905579272,
          0.105330755657552,
          -0.0364707620161139,
          0.0147315986681518,
          0.164811724028962,
          0.405739102948624,
          -0.0515259327825909,
          -1.45041108194038,
          -0.797775408401822,
          -0.420441119348396,
          0.148730085791825,
          -1.65439614364615,
          0.123099745855633,
          -0.882529286727313,
          -0.202186253686245,
          -2.46134068800087,
          -0.0365213174471908,
          -0.476107082766443,
          0.130861021802204,
          -0.580202218502463,
          -0.375980352154764,
          0.873127955012507,
          -1.15937100968576
         ],
         "xaxis": "x",
         "y": [
          1.22134530320384,
          1.56239592449128,
          0.921072165138784,
          0.619767465541004,
          1.10944063877699,
          1.02574324318762,
          0.974854417635832,
          1.44378449089036,
          0.67384451671234,
          2.74219238560352,
          0.733069928570148,
          2.29796093295549,
          0.823154359689919,
          1.7295137874625,
          2.49300606083952,
          1.53374220909852,
          1.87508167643949,
          2.13126284536764,
          2.37500357939566,
          0.4754874626989,
          1.32648867332763,
          2.51852029397605,
          0.171075479369506,
          2.54204914836556,
          2.00372610905544,
          0.81409488853711,
          2.87772459691337,
          0.271951143982723,
          0.495924901657298,
          2.3135992655951,
          1.10754480056025,
          2.61729223829357,
          0.954502725050198,
          3.10209136481352,
          0.632175514292634,
          0.725781341889401,
          1.86042125160628,
          2.73299470572279,
          1.27680423497737,
          0.920445134663086,
          0.7958071087491,
          0.749413480812492,
          1.14285779774138,
          0.999354716011732,
          1.30449333429873,
          1.20634140606149,
          1.29306998631839,
          2.73570473850442,
          0.171197394520336,
          0.685852110209349,
          0.2903518963329,
          1.95246043302185,
          1.17634595003463,
          2.63190361397327,
          1.01921892792935,
          0.632780279051705,
          2.03619486150151,
          0.933769474337435,
          1.34032051703064,
          0.750718278326924,
          1.20988055252001,
          0.594430318070608,
          0.915164135655217,
          2.68485101770858,
          1.12862284849947,
          1.14583204172884,
          1.09193081673849,
          3.10411731926305,
          0.848733736775521,
          1.00659220415066,
          0.106574959049199,
          1.70457752218246,
          0.277160947604507,
          0.787972492206155,
          1.61404577705731,
          2.65609878011815,
          2.2666868972584,
          1.59170534624135,
          1.91846738563112,
          2.31815604101098,
          3.56856180544402,
          0.793146108496185,
          2.17265707623045,
          1.02379892650343,
          1.03783690300666,
          0.407156531969976,
          2.38648557396108,
          2.5436596197055,
          1.33727320272511,
          0.226014805816382,
          1.55619073245446,
          0.639555638368627,
          1.63493665735755,
          0.935928805334338,
          0.832502840166526,
          0.636208571220306,
          0.825398949540176,
          1.31947881606818,
          1.51297128257285,
          1.23967181253111,
          1.14202419588134,
          1.05741688533421,
          0.710072807880766,
          1.39429475350813,
          0.930751730428528,
          0.705457629580737,
          0.837793024286457,
          1.45891620125888,
          0.348612563391087,
          0.299383442314548,
          1.13515761639336,
          -0.279656874506229,
          0.732629391972008,
          1.30016575884308,
          1.37424172975457,
          0.600807012737275,
          2.51026387013278,
          0.894505802368102,
          1.39559806874246,
          1.22349527642813,
          1.34804317190085,
          1.61623094247131,
          0.204548253002303,
          0.950345028608157,
          1.12797549271742,
          2.1037561499471,
          1.0046096337541,
          1.29675358084876,
          0.980307141171275,
          0.528213483269454,
          1.22782327403443,
          1.26668939932374,
          0.959838993946066,
          0.588009715512682,
          2.60184083230963,
          2.59649552566908,
          0.451285087858727,
          1.12888050856698,
          0.305985290184502,
          1.02210784646806,
          1.13400243003218,
          0.953905305734864,
          2.72702090766505,
          1.70558055574531,
          1.73380235316174,
          1.79715246994205,
          1.24567640765825,
          0.897228099467897,
          1.98502531176568,
          -0.00593180577588948,
          1.58873800816582,
          1.0791292384075,
          1.21747217361587,
          1.48769277880538,
          2.00811550104692,
          1.19616820337039,
          0.415267053961969,
          1.29030996498609,
          1.35425827849543,
          1.04926274038355,
          1.97519047077594,
          1.57920723668429,
          1.20963831562312,
          1.6576361357988,
          1.05070837937926,
          -0.289019908581884,
          0.742116116078059,
          0.933876862644036,
          1.20146692486729,
          0.360884390676445,
          1.72715318002346,
          1.3556539583376,
          1.52565266866653,
          0.595425374671883,
          3.11330391010599,
          0.88187115119512,
          0.752246828554789,
          1.64951776813502,
          1.45677347946852,
          1.56270505396944,
          1.75689923666271,
          1.98029252522278,
          1.17989595414942,
          1.81482319573317,
          1.62295011874497,
          1.23660620038195,
          0.884043351004991,
          2.90052857688239,
          1.66317302424411,
          1.15799581361209,
          2.50954582521607,
          3.87335148713437,
          1.08212758026752,
          0.929128589900525,
          0.264818829305995,
          0.468885297641863,
          0.945542697692527,
          0.843711905343365,
          1.20528156413835,
          1.74582541854328
         ],
         "yaxis": "y"
        }
       ],
       "layout": {
        "coloraxis": {
         "colorbar": {
          "title": {
           "text": "predictions"
          }
         },
         "colorscale": [
          [
           0,
           "#0d0887"
          ],
          [
           0.1111111111111111,
           "#46039f"
          ],
          [
           0.2222222222222222,
           "#7201a8"
          ],
          [
           0.3333333333333333,
           "#9c179e"
          ],
          [
           0.4444444444444444,
           "#bd3786"
          ],
          [
           0.5555555555555556,
           "#d8576b"
          ],
          [
           0.6666666666666666,
           "#ed7953"
          ],
          [
           0.7777777777777778,
           "#fb9f3a"
          ],
          [
           0.8888888888888888,
           "#fdca26"
          ],
          [
           1,
           "#f0f921"
          ]
         ]
        },
        "legend": {
         "tracegroupgap": 0
        },
        "template": {
         "data": {
          "bar": [
           {
            "error_x": {
             "color": "#2a3f5f"
            },
            "error_y": {
             "color": "#2a3f5f"
            },
            "marker": {
             "line": {
              "color": "#E5ECF6",
              "width": 0.5
             },
             "pattern": {
              "fillmode": "overlay",
              "size": 10,
              "solidity": 0.2
             }
            },
            "type": "bar"
           }
          ],
          "barpolar": [
           {
            "marker": {
             "line": {
              "color": "#E5ECF6",
              "width": 0.5
             },
             "pattern": {
              "fillmode": "overlay",
              "size": 10,
              "solidity": 0.2
             }
            },
            "type": "barpolar"
           }
          ],
          "carpet": [
           {
            "aaxis": {
             "endlinecolor": "#2a3f5f",
             "gridcolor": "white",
             "linecolor": "white",
             "minorgridcolor": "white",
             "startlinecolor": "#2a3f5f"
            },
            "baxis": {
             "endlinecolor": "#2a3f5f",
             "gridcolor": "white",
             "linecolor": "white",
             "minorgridcolor": "white",
             "startlinecolor": "#2a3f5f"
            },
            "type": "carpet"
           }
          ],
          "choropleth": [
           {
            "colorbar": {
             "outlinewidth": 0,
             "ticks": ""
            },
            "type": "choropleth"
           }
          ],
          "contour": [
           {
            "colorbar": {
             "outlinewidth": 0,
             "ticks": ""
            },
            "colorscale": [
             [
              0,
              "#0d0887"
             ],
             [
              0.1111111111111111,
              "#46039f"
             ],
             [
              0.2222222222222222,
              "#7201a8"
             ],
             [
              0.3333333333333333,
              "#9c179e"
             ],
             [
              0.4444444444444444,
              "#bd3786"
             ],
             [
              0.5555555555555556,
              "#d8576b"
             ],
             [
              0.6666666666666666,
              "#ed7953"
             ],
             [
              0.7777777777777778,
              "#fb9f3a"
             ],
             [
              0.8888888888888888,
              "#fdca26"
             ],
             [
              1,
              "#f0f921"
             ]
            ],
            "type": "contour"
           }
          ],
          "contourcarpet": [
           {
            "colorbar": {
             "outlinewidth": 0,
             "ticks": ""
            },
            "type": "contourcarpet"
           }
          ],
          "heatmap": [
           {
            "colorbar": {
             "outlinewidth": 0,
             "ticks": ""
            },
            "colorscale": [
             [
              0,
              "#0d0887"
             ],
             [
              0.1111111111111111,
              "#46039f"
             ],
             [
              0.2222222222222222,
              "#7201a8"
             ],
             [
              0.3333333333333333,
              "#9c179e"
             ],
             [
              0.4444444444444444,
              "#bd3786"
             ],
             [
              0.5555555555555556,
              "#d8576b"
             ],
             [
              0.6666666666666666,
              "#ed7953"
             ],
             [
              0.7777777777777778,
              "#fb9f3a"
             ],
             [
              0.8888888888888888,
              "#fdca26"
             ],
             [
              1,
              "#f0f921"
             ]
            ],
            "type": "heatmap"
           }
          ],
          "heatmapgl": [
           {
            "colorbar": {
             "outlinewidth": 0,
             "ticks": ""
            },
            "colorscale": [
             [
              0,
              "#0d0887"
             ],
             [
              0.1111111111111111,
              "#46039f"
             ],
             [
              0.2222222222222222,
              "#7201a8"
             ],
             [
              0.3333333333333333,
              "#9c179e"
             ],
             [
              0.4444444444444444,
              "#bd3786"
             ],
             [
              0.5555555555555556,
              "#d8576b"
             ],
             [
              0.6666666666666666,
              "#ed7953"
             ],
             [
              0.7777777777777778,
              "#fb9f3a"
             ],
             [
              0.8888888888888888,
              "#fdca26"
             ],
             [
              1,
              "#f0f921"
             ]
            ],
            "type": "heatmapgl"
           }
          ],
          "histogram": [
           {
            "marker": {
             "pattern": {
              "fillmode": "overlay",
              "size": 10,
              "solidity": 0.2
             }
            },
            "type": "histogram"
           }
          ],
          "histogram2d": [
           {
            "colorbar": {
             "outlinewidth": 0,
             "ticks": ""
            },
            "colorscale": [
             [
              0,
              "#0d0887"
             ],
             [
              0.1111111111111111,
              "#46039f"
             ],
             [
              0.2222222222222222,
              "#7201a8"
             ],
             [
              0.3333333333333333,
              "#9c179e"
             ],
             [
              0.4444444444444444,
              "#bd3786"
             ],
             [
              0.5555555555555556,
              "#d8576b"
             ],
             [
              0.6666666666666666,
              "#ed7953"
             ],
             [
              0.7777777777777778,
              "#fb9f3a"
             ],
             [
              0.8888888888888888,
              "#fdca26"
             ],
             [
              1,
              "#f0f921"
             ]
            ],
            "type": "histogram2d"
           }
          ],
          "histogram2dcontour": [
           {
            "colorbar": {
             "outlinewidth": 0,
             "ticks": ""
            },
            "colorscale": [
             [
              0,
              "#0d0887"
             ],
             [
              0.1111111111111111,
              "#46039f"
             ],
             [
              0.2222222222222222,
              "#7201a8"
             ],
             [
              0.3333333333333333,
              "#9c179e"
             ],
             [
              0.4444444444444444,
              "#bd3786"
             ],
             [
              0.5555555555555556,
              "#d8576b"
             ],
             [
              0.6666666666666666,
              "#ed7953"
             ],
             [
              0.7777777777777778,
              "#fb9f3a"
             ],
             [
              0.8888888888888888,
              "#fdca26"
             ],
             [
              1,
              "#f0f921"
             ]
            ],
            "type": "histogram2dcontour"
           }
          ],
          "mesh3d": [
           {
            "colorbar": {
             "outlinewidth": 0,
             "ticks": ""
            },
            "type": "mesh3d"
           }
          ],
          "parcoords": [
           {
            "line": {
             "colorbar": {
              "outlinewidth": 0,
              "ticks": ""
             }
            },
            "type": "parcoords"
           }
          ],
          "pie": [
           {
            "automargin": true,
            "type": "pie"
           }
          ],
          "scatter": [
           {
            "fillpattern": {
             "fillmode": "overlay",
             "size": 10,
             "solidity": 0.2
            },
            "type": "scatter"
           }
          ],
          "scatter3d": [
           {
            "line": {
             "colorbar": {
              "outlinewidth": 0,
              "ticks": ""
             }
            },
            "marker": {
             "colorbar": {
              "outlinewidth": 0,
              "ticks": ""
             }
            },
            "type": "scatter3d"
           }
          ],
          "scattercarpet": [
           {
            "marker": {
             "colorbar": {
              "outlinewidth": 0,
              "ticks": ""
             }
            },
            "type": "scattercarpet"
           }
          ],
          "scattergeo": [
           {
            "marker": {
             "colorbar": {
              "outlinewidth": 0,
              "ticks": ""
             }
            },
            "type": "scattergeo"
           }
          ],
          "scattergl": [
           {
            "marker": {
             "colorbar": {
              "outlinewidth": 0,
              "ticks": ""
             }
            },
            "type": "scattergl"
           }
          ],
          "scattermapbox": [
           {
            "marker": {
             "colorbar": {
              "outlinewidth": 0,
              "ticks": ""
             }
            },
            "type": "scattermapbox"
           }
          ],
          "scatterpolar": [
           {
            "marker": {
             "colorbar": {
              "outlinewidth": 0,
              "ticks": ""
             }
            },
            "type": "scatterpolar"
           }
          ],
          "scatterpolargl": [
           {
            "marker": {
             "colorbar": {
              "outlinewidth": 0,
              "ticks": ""
             }
            },
            "type": "scatterpolargl"
           }
          ],
          "scatterternary": [
           {
            "marker": {
             "colorbar": {
              "outlinewidth": 0,
              "ticks": ""
             }
            },
            "type": "scatterternary"
           }
          ],
          "surface": [
           {
            "colorbar": {
             "outlinewidth": 0,
             "ticks": ""
            },
            "colorscale": [
             [
              0,
              "#0d0887"
             ],
             [
              0.1111111111111111,
              "#46039f"
             ],
             [
              0.2222222222222222,
              "#7201a8"
             ],
             [
              0.3333333333333333,
              "#9c179e"
             ],
             [
              0.4444444444444444,
              "#bd3786"
             ],
             [
              0.5555555555555556,
              "#d8576b"
             ],
             [
              0.6666666666666666,
              "#ed7953"
             ],
             [
              0.7777777777777778,
              "#fb9f3a"
             ],
             [
              0.8888888888888888,
              "#fdca26"
             ],
             [
              1,
              "#f0f921"
             ]
            ],
            "type": "surface"
           }
          ],
          "table": [
           {
            "cells": {
             "fill": {
              "color": "#EBF0F8"
             },
             "line": {
              "color": "white"
             }
            },
            "header": {
             "fill": {
              "color": "#C8D4E3"
             },
             "line": {
              "color": "white"
             }
            },
            "type": "table"
           }
          ]
         },
         "layout": {
          "annotationdefaults": {
           "arrowcolor": "#2a3f5f",
           "arrowhead": 0,
           "arrowwidth": 1
          },
          "autotypenumbers": "strict",
          "coloraxis": {
           "colorbar": {
            "outlinewidth": 0,
            "ticks": ""
           }
          },
          "colorscale": {
           "diverging": [
            [
             0,
             "#8e0152"
            ],
            [
             0.1,
             "#c51b7d"
            ],
            [
             0.2,
             "#de77ae"
            ],
            [
             0.3,
             "#f1b6da"
            ],
            [
             0.4,
             "#fde0ef"
            ],
            [
             0.5,
             "#f7f7f7"
            ],
            [
             0.6,
             "#e6f5d0"
            ],
            [
             0.7,
             "#b8e186"
            ],
            [
             0.8,
             "#7fbc41"
            ],
            [
             0.9,
             "#4d9221"
            ],
            [
             1,
             "#276419"
            ]
           ],
           "sequential": [
            [
             0,
             "#0d0887"
            ],
            [
             0.1111111111111111,
             "#46039f"
            ],
            [
             0.2222222222222222,
             "#7201a8"
            ],
            [
             0.3333333333333333,
             "#9c179e"
            ],
            [
             0.4444444444444444,
             "#bd3786"
            ],
            [
             0.5555555555555556,
             "#d8576b"
            ],
            [
             0.6666666666666666,
             "#ed7953"
            ],
            [
             0.7777777777777778,
             "#fb9f3a"
            ],
            [
             0.8888888888888888,
             "#fdca26"
            ],
            [
             1,
             "#f0f921"
            ]
           ],
           "sequentialminus": [
            [
             0,
             "#0d0887"
            ],
            [
             0.1111111111111111,
             "#46039f"
            ],
            [
             0.2222222222222222,
             "#7201a8"
            ],
            [
             0.3333333333333333,
             "#9c179e"
            ],
            [
             0.4444444444444444,
             "#bd3786"
            ],
            [
             0.5555555555555556,
             "#d8576b"
            ],
            [
             0.6666666666666666,
             "#ed7953"
            ],
            [
             0.7777777777777778,
             "#fb9f3a"
            ],
            [
             0.8888888888888888,
             "#fdca26"
            ],
            [
             1,
             "#f0f921"
            ]
           ]
          },
          "colorway": [
           "#636efa",
           "#EF553B",
           "#00cc96",
           "#ab63fa",
           "#FFA15A",
           "#19d3f3",
           "#FF6692",
           "#B6E880",
           "#FF97FF",
           "#FECB52"
          ],
          "font": {
           "color": "#2a3f5f"
          },
          "geo": {
           "bgcolor": "white",
           "lakecolor": "white",
           "landcolor": "#E5ECF6",
           "showlakes": true,
           "showland": true,
           "subunitcolor": "white"
          },
          "hoverlabel": {
           "align": "left"
          },
          "hovermode": "closest",
          "mapbox": {
           "style": "light"
          },
          "paper_bgcolor": "white",
          "plot_bgcolor": "#E5ECF6",
          "polar": {
           "angularaxis": {
            "gridcolor": "white",
            "linecolor": "white",
            "ticks": ""
           },
           "bgcolor": "#E5ECF6",
           "radialaxis": {
            "gridcolor": "white",
            "linecolor": "white",
            "ticks": ""
           }
          },
          "scene": {
           "xaxis": {
            "backgroundcolor": "#E5ECF6",
            "gridcolor": "white",
            "gridwidth": 2,
            "linecolor": "white",
            "showbackground": true,
            "ticks": "",
            "zerolinecolor": "white"
           },
           "yaxis": {
            "backgroundcolor": "#E5ECF6",
            "gridcolor": "white",
            "gridwidth": 2,
            "linecolor": "white",
            "showbackground": true,
            "ticks": "",
            "zerolinecolor": "white"
           },
           "zaxis": {
            "backgroundcolor": "#E5ECF6",
            "gridcolor": "white",
            "gridwidth": 2,
            "linecolor": "white",
            "showbackground": true,
            "ticks": "",
            "zerolinecolor": "white"
           }
          },
          "shapedefaults": {
           "line": {
            "color": "#2a3f5f"
           }
          },
          "ternary": {
           "aaxis": {
            "gridcolor": "white",
            "linecolor": "white",
            "ticks": ""
           },
           "baxis": {
            "gridcolor": "white",
            "linecolor": "white",
            "ticks": ""
           },
           "bgcolor": "#E5ECF6",
           "caxis": {
            "gridcolor": "white",
            "linecolor": "white",
            "ticks": ""
           }
          },
          "title": {
           "x": 0.05
          },
          "xaxis": {
           "automargin": true,
           "gridcolor": "white",
           "linecolor": "white",
           "ticks": "",
           "title": {
            "standoff": 15
           },
           "zerolinecolor": "white",
           "zerolinewidth": 2
          },
          "yaxis": {
           "automargin": true,
           "gridcolor": "white",
           "linecolor": "white",
           "ticks": "",
           "title": {
            "standoff": 15
           },
           "zerolinecolor": "white",
           "zerolinewidth": 2
          }
         }
        },
        "title": {
         "text": "Visualization of the classification with K=3"
        },
        "xaxis": {
         "anchor": "y",
         "domain": [
          0,
          1
         ],
         "title": {
          "text": "x1"
         }
        },
        "yaxis": {
         "anchor": "x",
         "domain": [
          0,
          1
         ],
         "title": {
          "text": "x2"
         }
        }
       }
      }
     },
     "metadata": {},
     "output_type": "display_data"
    }
   ],
   "source": [
    "Knn_classifier = K_nearest_neighbors(train, test, 3)\n",
    "predictions = Knn_classifier.predict()\n",
    "df_predictions = df_test.copy()\n",
    "df_predictions['predictions'] = predictions\n",
    "px.scatter(df_predictions ,x='x1',y='x2',color='predictions', title='Visualization of the classification with K=3')"
   ]
  },
  {
   "cell_type": "markdown",
   "metadata": {},
   "source": [
    "5\\. Compare the results of you implementation with those of [`sklearn.neighbors.KNeighborsClassifier`](https://scikit-learn.org/stable/modules/generated/sklearn.neighbors.KNeighborsClassifier.html?highlight=kneighborsclassifier#sklearn.neighbors.KNeighborsClassifier). Compare the runtime of these two versions using the [`timeit`](https://docs.python.org/3/library/timeit.html) module (see session 1)."
   ]
  },
  {
   "cell_type": "markdown",
   "metadata": {},
   "source": [
    "**Answer:**"
   ]
  },
  {
   "cell_type": "code",
   "execution_count": 27,
   "metadata": {},
   "outputs": [
    {
     "name": "stdout",
     "output_type": "stream",
     "text": [
      "0.04500000000000004\n"
     ]
    }
   ],
   "source": [
    "from sklearn.neighbors import KNeighborsClassifier\n",
    "\n",
    "Knn_sklearn = KNeighborsClassifier(3)\n",
    "Knn_sklearn.fit(train[:,1:], train[:,0])\n",
    "sklearn_predictions = Knn_sklearn.predict(test[:,1:])\n",
    "error_rate_sklearn = 1-np.count_nonzero(predictions==test[:,0])/test.shape[0]\n",
    "print(error_rate_sklearn)"
   ]
  },
  {
   "cell_type": "markdown",
   "metadata": {},
   "source": [
    "We have the same error rate which is logical because the algorithm is deterministic. "
   ]
  },
  {
   "cell_type": "code",
   "execution_count": 28,
   "metadata": {},
   "outputs": [
    {
     "name": "stdout",
     "output_type": "stream",
     "text": [
      "29.951262649847006\n"
     ]
    }
   ],
   "source": [
    "import timeit\n",
    "\n",
    "loop = 10\n",
    "execution_time = timeit.timeit(lambda: Knn_classifier.predict(), number=loop) / loop\n",
    "\n",
    "execution_time_sklearn = timeit.timeit(lambda: Knn_sklearn.fit(train[:,1:], train[:,0]), number=loop) / loop + timeit.timeit(lambda: Knn_sklearn.predict(test[:,1:]), number=loop) / loop\n",
    "\n",
    "print(execution_time/execution_time_sklearn)"
   ]
  },
  {
   "cell_type": "markdown",
   "metadata": {},
   "source": [
    "The execution time of the implementation by sklearn is much faster than ours (factor 20)."
   ]
  },
  {
   "cell_type": "markdown",
   "metadata": {},
   "source": [
    "### B. Application to a real dataset (Breast cancer Wisconsin).\n",
    "\n",
    "6\\. Apply the K-NN classifier to the real dataset `data/wdbc12.data.txt.` Further details about the data are provided in `data/wdbc12.names.txt`.\n",
    "\n",
    "> Hint: you can use the function [`train_test_split` from `sklearn.model_selection`](https://scikit-learn.org/stable/modules/generated/sklearn.model_selection.train_test_split.html) to split the dataset into a training and a test set."
   ]
  },
  {
   "cell_type": "markdown",
   "metadata": {},
   "source": [
    "**Answer:**"
   ]
  },
  {
   "cell_type": "code",
   "execution_count": 29,
   "metadata": {},
   "outputs": [],
   "source": [
    "from sklearn.model_selection import train_test_split\n",
    "\n",
    "data = np.loadtxt('data/wdbc12.data.txt', delimiter=',')[:,1:]\n",
    "train_cancer, test_cancer = train_test_split(data, random_state=420)"
   ]
  },
  {
   "cell_type": "code",
   "execution_count": 30,
   "metadata": {},
   "outputs": [],
   "source": [
    "df_analyse_error_rate = error_rate_analyse(1,20,train_cancer, test_cancer)"
   ]
  },
  {
   "cell_type": "code",
   "execution_count": 31,
   "metadata": {},
   "outputs": [
    {
     "data": {
      "application/vnd.plotly.v1+json": {
       "config": {
        "plotlyServerURL": "https://plot.ly"
       },
       "data": [
        {
         "hovertemplate": "K=%{x}<br>error_rate=%{y}<extra></extra>",
         "legendgroup": "",
         "line": {
          "color": "#636efa",
          "dash": "solid"
         },
         "marker": {
          "symbol": "circle"
         },
         "mode": "lines",
         "name": "",
         "orientation": "v",
         "showlegend": false,
         "type": "scatter",
         "x": [
          1,
          2,
          3,
          4,
          5,
          6,
          7,
          8,
          9,
          10,
          11,
          12,
          13,
          14,
          15,
          16,
          17,
          18,
          19,
          20
         ],
         "xaxis": "x",
         "y": [
          0.1048951048951049,
          0.08391608391608396,
          0.06293706293706292,
          0.06293706293706292,
          0.05594405594405594,
          0.05594405594405594,
          0.05594405594405594,
          0.06293706293706292,
          0.05594405594405594,
          0.05594405594405594,
          0.04895104895104896,
          0.05594405594405594,
          0.05594405594405594,
          0.05594405594405594,
          0.05594405594405594,
          0.05594405594405594,
          0.05594405594405594,
          0.05594405594405594,
          0.05594405594405594,
          0.05594405594405594
         ],
         "yaxis": "y"
        }
       ],
       "layout": {
        "legend": {
         "tracegroupgap": 0
        },
        "template": {
         "data": {
          "bar": [
           {
            "error_x": {
             "color": "#2a3f5f"
            },
            "error_y": {
             "color": "#2a3f5f"
            },
            "marker": {
             "line": {
              "color": "#E5ECF6",
              "width": 0.5
             },
             "pattern": {
              "fillmode": "overlay",
              "size": 10,
              "solidity": 0.2
             }
            },
            "type": "bar"
           }
          ],
          "barpolar": [
           {
            "marker": {
             "line": {
              "color": "#E5ECF6",
              "width": 0.5
             },
             "pattern": {
              "fillmode": "overlay",
              "size": 10,
              "solidity": 0.2
             }
            },
            "type": "barpolar"
           }
          ],
          "carpet": [
           {
            "aaxis": {
             "endlinecolor": "#2a3f5f",
             "gridcolor": "white",
             "linecolor": "white",
             "minorgridcolor": "white",
             "startlinecolor": "#2a3f5f"
            },
            "baxis": {
             "endlinecolor": "#2a3f5f",
             "gridcolor": "white",
             "linecolor": "white",
             "minorgridcolor": "white",
             "startlinecolor": "#2a3f5f"
            },
            "type": "carpet"
           }
          ],
          "choropleth": [
           {
            "colorbar": {
             "outlinewidth": 0,
             "ticks": ""
            },
            "type": "choropleth"
           }
          ],
          "contour": [
           {
            "colorbar": {
             "outlinewidth": 0,
             "ticks": ""
            },
            "colorscale": [
             [
              0,
              "#0d0887"
             ],
             [
              0.1111111111111111,
              "#46039f"
             ],
             [
              0.2222222222222222,
              "#7201a8"
             ],
             [
              0.3333333333333333,
              "#9c179e"
             ],
             [
              0.4444444444444444,
              "#bd3786"
             ],
             [
              0.5555555555555556,
              "#d8576b"
             ],
             [
              0.6666666666666666,
              "#ed7953"
             ],
             [
              0.7777777777777778,
              "#fb9f3a"
             ],
             [
              0.8888888888888888,
              "#fdca26"
             ],
             [
              1,
              "#f0f921"
             ]
            ],
            "type": "contour"
           }
          ],
          "contourcarpet": [
           {
            "colorbar": {
             "outlinewidth": 0,
             "ticks": ""
            },
            "type": "contourcarpet"
           }
          ],
          "heatmap": [
           {
            "colorbar": {
             "outlinewidth": 0,
             "ticks": ""
            },
            "colorscale": [
             [
              0,
              "#0d0887"
             ],
             [
              0.1111111111111111,
              "#46039f"
             ],
             [
              0.2222222222222222,
              "#7201a8"
             ],
             [
              0.3333333333333333,
              "#9c179e"
             ],
             [
              0.4444444444444444,
              "#bd3786"
             ],
             [
              0.5555555555555556,
              "#d8576b"
             ],
             [
              0.6666666666666666,
              "#ed7953"
             ],
             [
              0.7777777777777778,
              "#fb9f3a"
             ],
             [
              0.8888888888888888,
              "#fdca26"
             ],
             [
              1,
              "#f0f921"
             ]
            ],
            "type": "heatmap"
           }
          ],
          "heatmapgl": [
           {
            "colorbar": {
             "outlinewidth": 0,
             "ticks": ""
            },
            "colorscale": [
             [
              0,
              "#0d0887"
             ],
             [
              0.1111111111111111,
              "#46039f"
             ],
             [
              0.2222222222222222,
              "#7201a8"
             ],
             [
              0.3333333333333333,
              "#9c179e"
             ],
             [
              0.4444444444444444,
              "#bd3786"
             ],
             [
              0.5555555555555556,
              "#d8576b"
             ],
             [
              0.6666666666666666,
              "#ed7953"
             ],
             [
              0.7777777777777778,
              "#fb9f3a"
             ],
             [
              0.8888888888888888,
              "#fdca26"
             ],
             [
              1,
              "#f0f921"
             ]
            ],
            "type": "heatmapgl"
           }
          ],
          "histogram": [
           {
            "marker": {
             "pattern": {
              "fillmode": "overlay",
              "size": 10,
              "solidity": 0.2
             }
            },
            "type": "histogram"
           }
          ],
          "histogram2d": [
           {
            "colorbar": {
             "outlinewidth": 0,
             "ticks": ""
            },
            "colorscale": [
             [
              0,
              "#0d0887"
             ],
             [
              0.1111111111111111,
              "#46039f"
             ],
             [
              0.2222222222222222,
              "#7201a8"
             ],
             [
              0.3333333333333333,
              "#9c179e"
             ],
             [
              0.4444444444444444,
              "#bd3786"
             ],
             [
              0.5555555555555556,
              "#d8576b"
             ],
             [
              0.6666666666666666,
              "#ed7953"
             ],
             [
              0.7777777777777778,
              "#fb9f3a"
             ],
             [
              0.8888888888888888,
              "#fdca26"
             ],
             [
              1,
              "#f0f921"
             ]
            ],
            "type": "histogram2d"
           }
          ],
          "histogram2dcontour": [
           {
            "colorbar": {
             "outlinewidth": 0,
             "ticks": ""
            },
            "colorscale": [
             [
              0,
              "#0d0887"
             ],
             [
              0.1111111111111111,
              "#46039f"
             ],
             [
              0.2222222222222222,
              "#7201a8"
             ],
             [
              0.3333333333333333,
              "#9c179e"
             ],
             [
              0.4444444444444444,
              "#bd3786"
             ],
             [
              0.5555555555555556,
              "#d8576b"
             ],
             [
              0.6666666666666666,
              "#ed7953"
             ],
             [
              0.7777777777777778,
              "#fb9f3a"
             ],
             [
              0.8888888888888888,
              "#fdca26"
             ],
             [
              1,
              "#f0f921"
             ]
            ],
            "type": "histogram2dcontour"
           }
          ],
          "mesh3d": [
           {
            "colorbar": {
             "outlinewidth": 0,
             "ticks": ""
            },
            "type": "mesh3d"
           }
          ],
          "parcoords": [
           {
            "line": {
             "colorbar": {
              "outlinewidth": 0,
              "ticks": ""
             }
            },
            "type": "parcoords"
           }
          ],
          "pie": [
           {
            "automargin": true,
            "type": "pie"
           }
          ],
          "scatter": [
           {
            "fillpattern": {
             "fillmode": "overlay",
             "size": 10,
             "solidity": 0.2
            },
            "type": "scatter"
           }
          ],
          "scatter3d": [
           {
            "line": {
             "colorbar": {
              "outlinewidth": 0,
              "ticks": ""
             }
            },
            "marker": {
             "colorbar": {
              "outlinewidth": 0,
              "ticks": ""
             }
            },
            "type": "scatter3d"
           }
          ],
          "scattercarpet": [
           {
            "marker": {
             "colorbar": {
              "outlinewidth": 0,
              "ticks": ""
             }
            },
            "type": "scattercarpet"
           }
          ],
          "scattergeo": [
           {
            "marker": {
             "colorbar": {
              "outlinewidth": 0,
              "ticks": ""
             }
            },
            "type": "scattergeo"
           }
          ],
          "scattergl": [
           {
            "marker": {
             "colorbar": {
              "outlinewidth": 0,
              "ticks": ""
             }
            },
            "type": "scattergl"
           }
          ],
          "scattermapbox": [
           {
            "marker": {
             "colorbar": {
              "outlinewidth": 0,
              "ticks": ""
             }
            },
            "type": "scattermapbox"
           }
          ],
          "scatterpolar": [
           {
            "marker": {
             "colorbar": {
              "outlinewidth": 0,
              "ticks": ""
             }
            },
            "type": "scatterpolar"
           }
          ],
          "scatterpolargl": [
           {
            "marker": {
             "colorbar": {
              "outlinewidth": 0,
              "ticks": ""
             }
            },
            "type": "scatterpolargl"
           }
          ],
          "scatterternary": [
           {
            "marker": {
             "colorbar": {
              "outlinewidth": 0,
              "ticks": ""
             }
            },
            "type": "scatterternary"
           }
          ],
          "surface": [
           {
            "colorbar": {
             "outlinewidth": 0,
             "ticks": ""
            },
            "colorscale": [
             [
              0,
              "#0d0887"
             ],
             [
              0.1111111111111111,
              "#46039f"
             ],
             [
              0.2222222222222222,
              "#7201a8"
             ],
             [
              0.3333333333333333,
              "#9c179e"
             ],
             [
              0.4444444444444444,
              "#bd3786"
             ],
             [
              0.5555555555555556,
              "#d8576b"
             ],
             [
              0.6666666666666666,
              "#ed7953"
             ],
             [
              0.7777777777777778,
              "#fb9f3a"
             ],
             [
              0.8888888888888888,
              "#fdca26"
             ],
             [
              1,
              "#f0f921"
             ]
            ],
            "type": "surface"
           }
          ],
          "table": [
           {
            "cells": {
             "fill": {
              "color": "#EBF0F8"
             },
             "line": {
              "color": "white"
             }
            },
            "header": {
             "fill": {
              "color": "#C8D4E3"
             },
             "line": {
              "color": "white"
             }
            },
            "type": "table"
           }
          ]
         },
         "layout": {
          "annotationdefaults": {
           "arrowcolor": "#2a3f5f",
           "arrowhead": 0,
           "arrowwidth": 1
          },
          "autotypenumbers": "strict",
          "coloraxis": {
           "colorbar": {
            "outlinewidth": 0,
            "ticks": ""
           }
          },
          "colorscale": {
           "diverging": [
            [
             0,
             "#8e0152"
            ],
            [
             0.1,
             "#c51b7d"
            ],
            [
             0.2,
             "#de77ae"
            ],
            [
             0.3,
             "#f1b6da"
            ],
            [
             0.4,
             "#fde0ef"
            ],
            [
             0.5,
             "#f7f7f7"
            ],
            [
             0.6,
             "#e6f5d0"
            ],
            [
             0.7,
             "#b8e186"
            ],
            [
             0.8,
             "#7fbc41"
            ],
            [
             0.9,
             "#4d9221"
            ],
            [
             1,
             "#276419"
            ]
           ],
           "sequential": [
            [
             0,
             "#0d0887"
            ],
            [
             0.1111111111111111,
             "#46039f"
            ],
            [
             0.2222222222222222,
             "#7201a8"
            ],
            [
             0.3333333333333333,
             "#9c179e"
            ],
            [
             0.4444444444444444,
             "#bd3786"
            ],
            [
             0.5555555555555556,
             "#d8576b"
            ],
            [
             0.6666666666666666,
             "#ed7953"
            ],
            [
             0.7777777777777778,
             "#fb9f3a"
            ],
            [
             0.8888888888888888,
             "#fdca26"
            ],
            [
             1,
             "#f0f921"
            ]
           ],
           "sequentialminus": [
            [
             0,
             "#0d0887"
            ],
            [
             0.1111111111111111,
             "#46039f"
            ],
            [
             0.2222222222222222,
             "#7201a8"
            ],
            [
             0.3333333333333333,
             "#9c179e"
            ],
            [
             0.4444444444444444,
             "#bd3786"
            ],
            [
             0.5555555555555556,
             "#d8576b"
            ],
            [
             0.6666666666666666,
             "#ed7953"
            ],
            [
             0.7777777777777778,
             "#fb9f3a"
            ],
            [
             0.8888888888888888,
             "#fdca26"
            ],
            [
             1,
             "#f0f921"
            ]
           ]
          },
          "colorway": [
           "#636efa",
           "#EF553B",
           "#00cc96",
           "#ab63fa",
           "#FFA15A",
           "#19d3f3",
           "#FF6692",
           "#B6E880",
           "#FF97FF",
           "#FECB52"
          ],
          "font": {
           "color": "#2a3f5f"
          },
          "geo": {
           "bgcolor": "white",
           "lakecolor": "white",
           "landcolor": "#E5ECF6",
           "showlakes": true,
           "showland": true,
           "subunitcolor": "white"
          },
          "hoverlabel": {
           "align": "left"
          },
          "hovermode": "closest",
          "mapbox": {
           "style": "light"
          },
          "paper_bgcolor": "white",
          "plot_bgcolor": "#E5ECF6",
          "polar": {
           "angularaxis": {
            "gridcolor": "white",
            "linecolor": "white",
            "ticks": ""
           },
           "bgcolor": "#E5ECF6",
           "radialaxis": {
            "gridcolor": "white",
            "linecolor": "white",
            "ticks": ""
           }
          },
          "scene": {
           "xaxis": {
            "backgroundcolor": "#E5ECF6",
            "gridcolor": "white",
            "gridwidth": 2,
            "linecolor": "white",
            "showbackground": true,
            "ticks": "",
            "zerolinecolor": "white"
           },
           "yaxis": {
            "backgroundcolor": "#E5ECF6",
            "gridcolor": "white",
            "gridwidth": 2,
            "linecolor": "white",
            "showbackground": true,
            "ticks": "",
            "zerolinecolor": "white"
           },
           "zaxis": {
            "backgroundcolor": "#E5ECF6",
            "gridcolor": "white",
            "gridwidth": 2,
            "linecolor": "white",
            "showbackground": true,
            "ticks": "",
            "zerolinecolor": "white"
           }
          },
          "shapedefaults": {
           "line": {
            "color": "#2a3f5f"
           }
          },
          "ternary": {
           "aaxis": {
            "gridcolor": "white",
            "linecolor": "white",
            "ticks": ""
           },
           "baxis": {
            "gridcolor": "white",
            "linecolor": "white",
            "ticks": ""
           },
           "bgcolor": "#E5ECF6",
           "caxis": {
            "gridcolor": "white",
            "linecolor": "white",
            "ticks": ""
           }
          },
          "title": {
           "x": 0.05
          },
          "xaxis": {
           "automargin": true,
           "gridcolor": "white",
           "linecolor": "white",
           "ticks": "",
           "title": {
            "standoff": 15
           },
           "zerolinecolor": "white",
           "zerolinewidth": 2
          },
          "yaxis": {
           "automargin": true,
           "gridcolor": "white",
           "linecolor": "white",
           "ticks": "",
           "title": {
            "standoff": 15
           },
           "zerolinecolor": "white",
           "zerolinewidth": 2
          }
         }
        },
        "title": {
         "text": "Evolution of the error rate"
        },
        "xaxis": {
         "anchor": "y",
         "domain": [
          0,
          1
         ],
         "title": {
          "text": "K"
         }
        },
        "yaxis": {
         "anchor": "x",
         "domain": [
          0,
          1
         ],
         "title": {
          "text": "error_rate"
         }
        }
       }
      }
     },
     "metadata": {},
     "output_type": "display_data"
    }
   ],
   "source": [
    "px.line(df_analyse_error_rate,x='K', y='error_rate', title='Evolution of the error rate')"
   ]
  },
  {
   "cell_type": "markdown",
   "metadata": {},
   "source": [
    "The best value of K is 11. We obtain an error rate of value 0.049."
   ]
  },
  {
   "cell_type": "markdown",
   "metadata": {},
   "source": [
    "## <a name=\"ex2\">Exercise 2: Code acceleration with cython</a> [(&#8593;)](#content)\n",
    "\n",
    "Cython allows C code to be easily interfaced with Python. It can be useful to make your code faster for a small coding effort, in particular when using loops. A general approach to optimize your code is outlined in the [Scipy lecture notes, Section 2.4](https://scipy-lectures.org/advanced/optimizing/index.html). Complementary reading about interfacing Python with C can be found in [Section 2.8](https://scipy-lectures.org/advanced/interfacing_with_c/interfacing_with_c.html).\n",
    "\n",
    "1\\. Read carefully the [cython tutorial](http://docs.cython.org/en/latest/src/tutorial/cython_tutorial.html), which describes step by the step how the toy example reported below has been developed."
   ]
  },
  {
   "cell_type": "markdown",
   "metadata": {},
   "source": [
    "**Setup**: Compile the toy example provided in `example_cy/` by running, in the command line (anaconda prompt on windows)"
   ]
  },
  {
   "cell_type": "markdown",
   "metadata": {},
   "source": [
    "```bash\n",
    "cd example_cy && python setup.py build_ext --inplace\n",
    "```"
   ]
  },
  {
   "cell_type": "markdown",
   "metadata": {},
   "source": [
    "Note that the compilation process has been slightly automatised with the instructions reported in `example_cy/setup.py`. To test the module, run"
   ]
  },
  {
   "cell_type": "code",
   "execution_count": 35,
   "metadata": {},
   "outputs": [
    {
     "name": "stdout",
     "output_type": "stream",
     "text": [
      "running build_ext\n",
      "building 'example_cy.helloworld' extension\n",
      "creating build\n",
      "creating build\\temp.win-amd64-3.10\n",
      "creating build\\temp.win-amd64-3.10\\Release\n",
      "\"C:\\Program Files (x86)\\Microsoft Visual Studio\\2022\\BuildTools\\VC\\Tools\\MSVC\\14.33.31629\\bin\\HostX86\\x64\\cl.exe\" /c /nologo /O2 /W3 /GL /DNDEBUG /MD -Ic:\\Users\\geyma\\AppData\\Local\\Programs\\Python\\Python310\\include -Ic:\\Users\\geyma\\AppData\\Local\\Programs\\Python\\Python310\\Include \"-IC:\\Program Files (x86)\\Microsoft Visual Studio\\2022\\BuildTools\\VC\\Tools\\MSVC\\14.33.31629\\include\" \"-IC:\\Program Files (x86)\\Microsoft Visual Studio\\2022\\BuildTools\\VC\\Auxiliary\\VS\\include\" \"-IC:\\Program Files (x86)\\Windows Kits\\10\\include\\10.0.19041.0\\ucrt\" \"-IC:\\Program Files (x86)\\Windows Kits\\10\\\\include\\10.0.19041.0\\\\um\" \"-IC:\\Program Files (x86)\\Windows Kits\\10\\\\include\\10.0.19041.0\\\\shared\" \"-IC:\\Program Files (x86)\\Windows Kits\\10\\\\include\\10.0.19041.0\\\\winrt\" \"-IC:\\Program Files (x86)\\Windows Kits\\10\\\\include\\10.0.19041.0\\\\cppwinrt\" /Tchelloworld.c /Fobuild\\temp.win-amd64-3.10\\Release\\helloworld.obj\n",
      "helloworld.c\n",
      "creating c:\\Users\\geyma\\OneDrive\\Documents\\GitHub\\python_sdia\\Labs\\Lab4\\example_cy\\build\\lib.win-amd64-3.10\n",
      "creating c:\\Users\\geyma\\OneDrive\\Documents\\GitHub\\python_sdia\\Labs\\Lab4\\example_cy\\build\\lib.win-amd64-3.10\\example_cy\n",
      "\"C:\\Program Files (x86)\\Microsoft Visual Studio\\2022\\BuildTools\\VC\\Tools\\MSVC\\14.33.31629\\bin\\HostX86\\x64\\link.exe\" /nologo /INCREMENTAL:NO /LTCG /DLL /MANIFEST:EMBED,ID=2 /MANIFESTUAC:NO /LIBPATH:c:\\Users\\geyma\\AppData\\Local\\Programs\\Python\\Python310\\libs /LIBPATH:c:\\Users\\geyma\\AppData\\Local\\Programs\\Python\\Python310 /LIBPATH:c:\\Users\\geyma\\AppData\\Local\\Programs\\Python\\Python310\\PCbuild\\amd64 \"/LIBPATH:C:\\Program Files (x86)\\Microsoft Visual Studio\\2022\\BuildTools\\VC\\Tools\\MSVC\\14.33.31629\\lib\\x64\" \"/LIBPATH:C:\\Program Files (x86)\\Windows Kits\\10\\lib\\10.0.19041.0\\ucrt\\x64\" \"/LIBPATH:C:\\Program Files (x86)\\Windows Kits\\10\\\\lib\\10.0.19041.0\\\\um\\x64\" /EXPORT:PyInit_helloworld build\\temp.win-amd64-3.10\\Release\\helloworld.obj /OUT:build\\lib.win-amd64-3.10\\example_cy\\helloworld.cp310-win_amd64.pyd /IMPLIB:build\\temp.win-amd64-3.10\\Release\\helloworld.cp310-win_amd64.lib\n",
      "   Cr�ation de la biblioth�que build\\temp.win-amd64-3.10\\Release\\helloworld.cp310-win_amd64.lib et de l'objet build\\temp.win-amd64-3.10\\Release\\helloworld.cp310-win_amd64.exp\n",
      "G�n�ration de code en cours\n",
      "Fin de la g�n�ration du code\n",
      "building 'example_cy.primes' extension\n",
      "\"C:\\Program Files (x86)\\Microsoft Visual Studio\\2022\\BuildTools\\VC\\Tools\\MSVC\\14.33.31629\\bin\\HostX86\\x64\\cl.exe\" /c /nologo /O2 /W3 /GL /DNDEBUG /MD -Ic:\\Users\\geyma\\AppData\\Local\\Programs\\Python\\Python310\\include -Ic:\\Users\\geyma\\AppData\\Local\\Programs\\Python\\Python310\\Include \"-IC:\\Program Files (x86)\\Microsoft Visual Studio\\2022\\BuildTools\\VC\\Tools\\MSVC\\14.33.31629\\include\" \"-IC:\\Program Files (x86)\\Microsoft Visual Studio\\2022\\BuildTools\\VC\\Auxiliary\\VS\\include\" \"-IC:\\Program Files (x86)\\Windows Kits\\10\\include\\10.0.19041.0\\ucrt\" \"-IC:\\Program Files (x86)\\Windows Kits\\10\\\\include\\10.0.19041.0\\\\um\" \"-IC:\\Program Files (x86)\\Windows Kits\\10\\\\include\\10.0.19041.0\\\\shared\" \"-IC:\\Program Files (x86)\\Windows Kits\\10\\\\include\\10.0.19041.0\\\\winrt\" \"-IC:\\Program Files (x86)\\Windows Kits\\10\\\\include\\10.0.19041.0\\\\cppwinrt\" /Tcprimes.c /Fobuild\\temp.win-amd64-3.10\\Release\\primes.obj\n",
      "primes.c\n",
      "\"C:\\Program Files (x86)\\Microsoft Visual Studio\\2022\\BuildTools\\VC\\Tools\\MSVC\\14.33.31629\\bin\\HostX86\\x64\\link.exe\" /nologo /INCREMENTAL:NO /LTCG /DLL /MANIFEST:EMBED,ID=2 /MANIFESTUAC:NO /LIBPATH:c:\\Users\\geyma\\AppData\\Local\\Programs\\Python\\Python310\\libs /LIBPATH:c:\\Users\\geyma\\AppData\\Local\\Programs\\Python\\Python310 /LIBPATH:c:\\Users\\geyma\\AppData\\Local\\Programs\\Python\\Python310\\PCbuild\\amd64 \"/LIBPATH:C:\\Program Files (x86)\\Microsoft Visual Studio\\2022\\BuildTools\\VC\\Tools\\MSVC\\14.33.31629\\lib\\x64\" \"/LIBPATH:C:\\Program Files (x86)\\Windows Kits\\10\\lib\\10.0.19041.0\\ucrt\\x64\" \"/LIBPATH:C:\\Program Files (x86)\\Windows Kits\\10\\\\lib\\10.0.19041.0\\\\um\\x64\" /EXPORT:PyInit_primes build\\temp.win-amd64-3.10\\Release\\primes.obj /OUT:build\\lib.win-amd64-3.10\\example_cy\\primes.cp310-win_amd64.pyd /IMPLIB:build\\temp.win-amd64-3.10\\Release\\primes.cp310-win_amd64.lib\n",
      "   Cr�ation de la biblioth�que build\\temp.win-amd64-3.10\\Release\\primes.cp310-win_amd64.lib et de l'objet build\\temp.win-amd64-3.10\\Release\\primes.cp310-win_amd64.exp\n",
      "G�n�ration de code en cours\n",
      "Fin de la g�n�ration du code\n",
      "copying build\\lib.win-amd64-3.10\\example_cy\\helloworld.cp310-win_amd64.pyd -> example_cy\n"
     ]
    },
    {
     "name": "stderr",
     "output_type": "stream",
     "text": [
      "error: could not create 'example_cy\\helloworld.cp310-win_amd64.pyd': No such file or directory\n"
     ]
    }
   ],
   "source": [
    "!cd example_cy && python setup.py build_ext --inplace"
   ]
  },
  {
   "cell_type": "code",
   "execution_count": 37,
   "metadata": {},
   "outputs": [
    {
     "name": "stdout",
     "output_type": "stream",
     "text": [
      "Hello World\n"
     ]
    }
   ],
   "source": [
    "import example_cy.helloworld as toy\n",
    "\n",
    "toy.printhello()"
   ]
  },
  {
   "cell_type": "markdown",
   "metadata": {},
   "source": [
    "which should display\n",
    "```python\n",
    "Hello World\n",
    "```"
   ]
  },
  {
   "cell_type": "markdown",
   "metadata": {},
   "source": [
    "> Warning: \n",
    "> - do not forget to include an empty `__init__.py` file in the directory where your source code lives (`import` will fail if this is not the case).\n",
    "> - in case you have any setup issue, take a look at the `notes.md` file.\n",
    "> - if the C code and/or the executable do not seem to be regenerated by the build instructions, delete the C code and the executable first, and re-execute the compilation afterwards.\n",
    "> - do not hesitate to restart the Python kernel if necessary when the Cython executable has been re-generated."
   ]
  },
  {
   "cell_type": "markdown",
   "metadata": {},
   "source": [
    "2\\. Read the [Numpy/Cython tutorial](https://cython.readthedocs.io/en/latest/src/userguide/numpy_tutorial.html#numpy-tutorial), focussing on the paragraphs **Cython at a glance**, and **Your Cython environment** until **\"More generic code\"**. An example to compile a `.pyx` file depending on `numpy` is included in `example_np_cy/`."
   ]
  },
  {
   "cell_type": "markdown",
   "metadata": {},
   "source": [
    "> Remarks: \n",
    "> - the `annotate=True` flag in the `setup.py` allows an additional `.html` document to be generated (`<your_module_name>.html`), showing, for each line of the Cython code, the associated C instructions generated. Highlighted in yellow are the interactions with Python: the darker a region appears, the less efficient the generated C code is for this section. Work in priority on these! \n",
    "> - make sure all the previously generated files are deleted to allow the .html report to be generated;\n",
    "> - if you are working on your own machine and don't have a C/C++ compiler installed, read the notes provided in `notes.md`;\n",
    "> - use `cdef` for pure C functions (not exported to Python), `cpdef` should be favored for functions containing C instructions and later called from Python."
   ]
  },
  {
   "cell_type": "markdown",
   "metadata": {},
   "source": [
    "**Answer:**"
   ]
  },
  {
   "cell_type": "code",
   "execution_count": 49,
   "metadata": {},
   "outputs": [
    {
     "name": "stdout",
     "output_type": "stream",
     "text": [
      "Compiling compute_cy.pyx because it changed.\n",
      "[1/1] Cythonizing compute_cy.pyx\n",
      "running build_ext\n",
      "building 'compute_cy' extension\n",
      "creating build\n",
      "creating build\\temp.win-amd64-3.10\n",
      "creating build\\temp.win-amd64-3.10\\Release\n",
      "\"C:\\Program Files (x86)\\Microsoft Visual Studio\\2022\\BuildTools\\VC\\Tools\\MSVC\\14.33.31629\\bin\\HostX86\\x64\\cl.exe\" /c /nologo /O2 /W3 /GL /DNDEBUG /MD -Ic:\\Users\\geyma\\AppData\\Local\\Programs\\Python\\Python310\\include -Ic:\\Users\\geyma\\AppData\\Local\\Programs\\Python\\Python310\\Include \"-IC:\\Program Files (x86)\\Microsoft Visual Studio\\2022\\BuildTools\\VC\\Tools\\MSVC\\14.33.31629\\include\" \"-IC:\\Program Files (x86)\\Microsoft Visual Studio\\2022\\BuildTools\\VC\\Auxiliary\\VS\\include\" \"-IC:\\Program Files (x86)\\Windows Kits\\10\\include\\10.0.19041.0\\ucrt\" \"-IC:\\Program Files (x86)\\Windows Kits\\10\\\\include\\10.0.19041.0\\\\um\" \"-IC:\\Program Files (x86)\\Windows Kits\\10\\\\include\\10.0.19041.0\\\\shared\" \"-IC:\\Program Files (x86)\\Windows Kits\\10\\\\include\\10.0.19041.0\\\\winrt\" \"-IC:\\Program Files (x86)\\Windows Kits\\10\\\\include\\10.0.19041.0\\\\cppwinrt\" /Tccompute_cy.c /Fobuild\\temp.win-amd64-3.10\\Release\\compute_cy.obj\n",
      "compute_cy.c\n",
      "creating c:\\Users\\geyma\\OneDrive\\Documents\\GitHub\\python_sdia\\Labs\\Lab4\\example_np_cy\\build\\lib.win-amd64-3.10\n",
      "\"C:\\Program Files (x86)\\Microsoft Visual Studio\\2022\\BuildTools\\VC\\Tools\\MSVC\\14.33.31629\\bin\\HostX86\\x64\\link.exe\" /nologo /INCREMENTAL:NO /LTCG /DLL /MANIFEST:EMBED,ID=2 /MANIFESTUAC:NO /LIBPATH:c:\\Users\\geyma\\AppData\\Local\\Programs\\Python\\Python310\\libs /LIBPATH:c:\\Users\\geyma\\AppData\\Local\\Programs\\Python\\Python310 /LIBPATH:c:\\Users\\geyma\\AppData\\Local\\Programs\\Python\\Python310\\PCbuild\\amd64 \"/LIBPATH:C:\\Program Files (x86)\\Microsoft Visual Studio\\2022\\BuildTools\\VC\\Tools\\MSVC\\14.33.31629\\lib\\x64\" \"/LIBPATH:C:\\Program Files (x86)\\Windows Kits\\10\\lib\\10.0.19041.0\\ucrt\\x64\" \"/LIBPATH:C:\\Program Files (x86)\\Windows Kits\\10\\\\lib\\10.0.19041.0\\\\um\\x64\" /EXPORT:PyInit_compute_cy build\\temp.win-amd64-3.10\\Release\\compute_cy.obj /OUT:build\\lib.win-amd64-3.10\\compute_cy.cp310-win_amd64.pyd /IMPLIB:build\\temp.win-amd64-3.10\\Release\\compute_cy.cp310-win_amd64.lib\n",
      "   Cr�ation de la biblioth�que build\\temp.win-amd64-3.10\\Release\\compute_cy.cp310-win_amd64.lib et de l'objet build\\temp.win-amd64-3.10\\Release\\compute_cy.cp310-win_amd64.exp\n",
      "G�n�ration de code en cours\n",
      "Fin de la g�n�ration du code\n",
      "copying build\\lib.win-amd64-3.10\\compute_cy.cp310-win_amd64.pyd -> \n"
     ]
    },
    {
     "data": {
      "text/plain": [
       "array([[2893,  514, 1906, ..., 1741, 2797, 2353],\n",
       "       [2083,  679,  535, ..., 2083,  649, 1849],\n",
       "       [2080, 1027, 3019, ...,  973,  412, 3031],\n",
       "       ...,\n",
       "       [ 250, 1654, 2218, ...,  760, 2242, 1198],\n",
       "       [ 799,   52, 1018, ..., 1486, 1780,   67],\n",
       "       [2842, 2389, 1417, ...,  214, 2863, 1981]], dtype=int32)"
      ]
     },
     "execution_count": 49,
     "metadata": {},
     "output_type": "execute_result"
    }
   ],
   "source": [
    "!cd example_np_cy && python setup.py build_ext --inplace\n",
    "\n",
    "array_1 = np.random.uniform(0, 1000, size=(3000, 2000)).astype(np.intc)\n",
    "array_2 = np.random.uniform(0, 1000, size=(3000, 2000)).astype(np.intc)\n",
    "\n",
    "a = 4\n",
    "b = 3\n",
    "c = 9\n",
    "\n",
    "import compute_cy as cpt\n",
    "cpt.compute(array_1, array_2, a, b, c)"
   ]
  },
  {
   "cell_type": "code",
   "execution_count": 55,
   "metadata": {},
   "outputs": [
    {
     "name": "stdout",
     "output_type": "stream",
     "text": [
      "The Cython extension is already loaded. To reload it, use:\n",
      "  %reload_ext Cython\n"
     ]
    }
   ],
   "source": [
    "%load_ext Cython"
   ]
  },
  {
   "cell_type": "code",
   "execution_count": 63,
   "metadata": {},
   "outputs": [],
   "source": [
    "def execution_without_cython():\n",
    "    from example_np_cy.compute import clip, compute\n",
    "    import numpy as np\n",
    "    array_1 = np.random.uniform(0, 1000, size=(3000, 2000)).astype(np.intc)\n",
    "    array_2 = np.random.uniform(0, 1000, size=(3000, 2000)).astype(np.intc)\n",
    "\n",
    "    a = 4\n",
    "    b = 3\n",
    "    c = 9\n",
    "    compute(array_1, array_2, a, b, c)"
   ]
  },
  {
   "cell_type": "code",
   "execution_count": 64,
   "metadata": {},
   "outputs": [],
   "source": [
    "def execution_with_cython():\n",
    "    %%cython\n",
    "    from example_np_cy.compute import clip, compute\n",
    "    import numpy as np\n",
    "    \n",
    "    array_1 = np.random.uniform(0, 1000, size=(3000, 2000)).astype(np.intc)\n",
    "    array_2 = np.random.uniform(0, 1000, size=(3000, 2000)).astype(np.intc)\n",
    "\n",
    "    a = 4\n",
    "    b = 3\n",
    "    c = 9\n",
    "    compute(array_1, array_2, a, b, c)"
   ]
  },
  {
   "cell_type": "code",
   "execution_count": 65,
   "metadata": {},
   "outputs": [
    {
     "name": "stdout",
     "output_type": "stream",
     "text": [
      "1.2727272727272727\n"
     ]
    }
   ],
   "source": [
    "import timeit\n",
    "\n",
    "loop = 10\n",
    "execution_time = timeit.timeit(lambda: execution_without_cython, number=loop) / loop\n",
    "\n",
    "execution_time_cython = timeit.timeit(lambda: execution_with_cython, number=loop) / loop\n",
    "\n",
    "print(execution_time/execution_time_cython)"
   ]
  },
  {
   "cell_type": "markdown",
   "metadata": {},
   "source": [
    "The <i>compute</i> function is already computed using numpy and therfore really fast. It seems overkill to use Cython in this case buut we still notice a 1.27 factor in terms of rapidity."
   ]
  },
  {
   "cell_type": "markdown",
   "metadata": {},
   "source": [
    "3\\. Use Cython to implement a faster version of the numpy K-NN classifier implemented in [Exercise 1](#ex1). To do so, apply step-by-step the techniques introduced in the [Numpy/Cython tutorial](https://cython.readthedocs.io/en/latest/src/userguide/numpy_tutorial.html#numpy-tutorial) (*i.e.*, compile and time your code after each step to report the evolution, keeping track of the different versions of the cython function).\n",
    "\n",
    "> Hint: if you keep numpy arrays, make sure you use memory views (see numpy/cython tutorial) to access the elements within it. Be extremely careful with the type of the input arrays (you may need to recast the format of the input elements before entering the function. The `numpy.asarray` function can prove useful).\n",
    "\n",
    "> **Detailed guidelines**: a few notes and *caveat* to help you re-writing your code in cython:\n",
    "> - try to reduce the number of calls to numpy instructions as much as possible;\n",
    "> - **you do not have to optimize everything**. For the KNN function above, most of the time is spent in computing euclidean distances: you can thus focus on optimizing tihs operations by explicitly writing a for loop, which will ensure a minimal interaction with numpy when generating the associated C code at compilation. Calls to other numpy functions can be kept as-is;\n",
    "> - if you need to create an array within the cython function, used np.zeros (**do NOT use python lists**), and use a memory view to access its content;\n",
    "> - specify the type for all variables and numpy arrays. Pay attention to the type of the input arrays passed to the Cython function;\n",
    "> - whenever an array is returned, use memory views and index(es) to efficiently access its content;\n",
    "> - some numpy operators (e.g., broadcasting mechanism) do not work with memory views. In this case, you can directly write for loop(s) to encode the operation of interest (the loops will be optimized out at compile time);\n",
    "> - only use at the final development stage the following cython optimization (not before, as they can crash the program without any help):\n",
    ">\n",
    ">```python\n",
    ">@cython.boundscheck(False)\n",
    ">@cython.wraparound(False)\n",
    ">```"
   ]
  },
  {
   "cell_type": "markdown",
   "metadata": {},
   "source": [
    "**Answer:**"
   ]
  },
  {
   "cell_type": "code",
   "execution_count": 146,
   "metadata": {},
   "outputs": [
    {
     "name": "stdout",
     "output_type": "stream",
     "text": [
      "Compiling cython_metric.pyx because it changed.\n",
      "[1/1] Cythonizing cython_metric.pyx\n",
      "running build_ext\n",
      "building 'cython_metric' extension\n",
      "creating build\n",
      "creating build\\temp.win-amd64-3.10\n",
      "creating build\\temp.win-amd64-3.10\\Release\n",
      "\"C:\\Program Files (x86)\\Microsoft Visual Studio\\2022\\BuildTools\\VC\\Tools\\MSVC\\14.33.31629\\bin\\HostX86\\x64\\cl.exe\" /c /nologo /O2 /W3 /GL /DNDEBUG /MD -Ic:\\Users\\geyma\\AppData\\Local\\Programs\\Python\\Python310\\include -Ic:\\Users\\geyma\\AppData\\Local\\Programs\\Python\\Python310\\Include \"-IC:\\Program Files (x86)\\Microsoft Visual Studio\\2022\\BuildTools\\VC\\Tools\\MSVC\\14.33.31629\\include\" \"-IC:\\Program Files (x86)\\Microsoft Visual Studio\\2022\\BuildTools\\VC\\Auxiliary\\VS\\include\" \"-IC:\\Program Files (x86)\\Windows Kits\\10\\include\\10.0.19041.0\\ucrt\" \"-IC:\\Program Files (x86)\\Windows Kits\\10\\\\include\\10.0.19041.0\\\\um\" \"-IC:\\Program Files (x86)\\Windows Kits\\10\\\\include\\10.0.19041.0\\\\shared\" \"-IC:\\Program Files (x86)\\Windows Kits\\10\\\\include\\10.0.19041.0\\\\winrt\" \"-IC:\\Program Files (x86)\\Windows Kits\\10\\\\include\\10.0.19041.0\\\\cppwinrt\" /Tccython_metric.c /Fobuild\\temp.win-amd64-3.10\\Release\\cython_metric.obj\n",
      "cython_metric.c\n",
      "cython_metric.c(2280): warning C4244: '='�: conversion de 'Py_ssize_t' en 'int', perte possible de donn�es\n",
      "creating c:\\Users\\geyma\\OneDrive\\Documents\\GitHub\\python_sdia\\Labs\\Lab4\\knn\\build\\lib.win-amd64-3.10\n",
      "\"C:\\Program Files (x86)\\Microsoft Visual Studio\\2022\\BuildTools\\VC\\Tools\\MSVC\\14.33.31629\\bin\\HostX86\\x64\\link.exe\" /nologo /INCREMENTAL:NO /LTCG /DLL /MANIFEST:EMBED,ID=2 /MANIFESTUAC:NO /LIBPATH:c:\\Users\\geyma\\AppData\\Local\\Programs\\Python\\Python310\\libs /LIBPATH:c:\\Users\\geyma\\AppData\\Local\\Programs\\Python\\Python310 /LIBPATH:c:\\Users\\geyma\\AppData\\Local\\Programs\\Python\\Python310\\PCbuild\\amd64 \"/LIBPATH:C:\\Program Files (x86)\\Microsoft Visual Studio\\2022\\BuildTools\\VC\\Tools\\MSVC\\14.33.31629\\lib\\x64\" \"/LIBPATH:C:\\Program Files (x86)\\Windows Kits\\10\\lib\\10.0.19041.0\\ucrt\\x64\" \"/LIBPATH:C:\\Program Files (x86)\\Windows Kits\\10\\\\lib\\10.0.19041.0\\\\um\\x64\" /EXPORT:PyInit_cython_metric build\\temp.win-amd64-3.10\\Release\\cython_metric.obj /OUT:build\\lib.win-amd64-3.10\\cython_metric.cp310-win_amd64.pyd /IMPLIB:build\\temp.win-amd64-3.10\\Release\\cython_metric.cp310-win_amd64.lib\n",
      "   Cr�ation de la biblioth�que build\\temp.win-amd64-3.10\\Release\\cython_metric.cp310-win_amd64.lib et de l'objet build\\temp.win-amd64-3.10\\Release\\cython_metric.cp310-win_amd64.exp\n",
      "G�n�ration de code en cours\n",
      "Fin de la g�n�ration du code\n",
      "copying build\\lib.win-amd64-3.10\\cython_metric.cp310-win_amd64.pyd -> \n"
     ]
    }
   ],
   "source": [
    "!cd knn && python setup.py build_ext --inplace"
   ]
  },
  {
   "cell_type": "code",
   "execution_count": 147,
   "metadata": {},
   "outputs": [],
   "source": [
    "import numpy as np\n",
    "from sklearn.neighbors import KNeighborsClassifier\n",
    "from knn.cython_metric import mydist\n",
    "import time"
   ]
  },
  {
   "cell_type": "code",
   "execution_count": 151,
   "metadata": {},
   "outputs": [],
   "source": [
    "def dist(x, y):\n",
    "  return np.sum((y-x)**2)"
   ]
  },
  {
   "cell_type": "code",
   "execution_count": 155,
   "metadata": {},
   "outputs": [],
   "source": [
    "def execution_cython():\n",
    "    classifier_cython = KNeighborsClassifier(3, metric=mydist)\n",
    "\n",
    "    t1 = time.time()\n",
    "    classifier_cython.fit(train[:,1:], train[:,0])\n",
    "\n",
    "    res = classifier_cython.predict(test[:,1:])\n",
    "    t2 = time.time()"
   ]
  },
  {
   "cell_type": "code",
   "execution_count": 156,
   "metadata": {},
   "outputs": [],
   "source": [
    "def execution():\n",
    "    classifier = KNeighborsClassifier(3, metric=dist)\n",
    "\n",
    "    t1 = time.time()\n",
    "    classifier.fit(train[:,1:], train[:,0])\n",
    "\n",
    "    res = classifier.predict(test[:,1:])\n",
    "    t2 = time.time()"
   ]
  },
  {
   "cell_type": "markdown",
   "metadata": {},
   "source": [
    "4\\. Compare the runtime of the two algorithms (using `timeit.timeit`), and conclude about the interest of using cython in this case."
   ]
  },
  {
   "cell_type": "markdown",
   "metadata": {},
   "source": [
    "**Answer:**"
   ]
  },
  {
   "cell_type": "code",
   "execution_count": 157,
   "metadata": {},
   "outputs": [
    {
     "name": "stdout",
     "output_type": "stream",
     "text": [
      "2.090909090909091\n"
     ]
    }
   ],
   "source": [
    "import timeit\n",
    "\n",
    "loop = 10\n",
    "execution_time = timeit.timeit(lambda: execution_cython, number=loop) / loop\n",
    "\n",
    "execution_time_cython = timeit.timeit(lambda: execution, number=loop) / loop\n",
    "\n",
    "print(execution_time/execution_time_cython)"
   ]
  },
  {
   "cell_type": "markdown",
   "metadata": {},
   "source": [
    "Even with a KNN very optimized by the sklearn library, we see that Cython allows us to compute two times faster !"
   ]
  },
  {
   "cell_type": "markdown",
   "metadata": {},
   "source": [
    "## <a name=\"ex3\">Exercise 3: Code acceleration with numba</a> [(&#8593;)](#content)\n",
    "\n",
    "`numba` is a just-in-time (JIT) compiler which translates Python codes into efficient machine code at runtime. A significant acceleration can be obtained by adding a few simple decorators to a standard Python function, up to a few restrictions detailed [here](http://numba.pydata.org/numba-doc/latest/user/performance-tips.html).\n",
    "\n",
    "If you have written most of the KNN classifier of exercise 1 with numpy, there is little to no chance that you will get an acceleration with numba (justifying the use of cython in this case). An interesting acceleration factor can however be obtained for the computation of the total variation investigated in session 2."
   ]
  },
  {
   "cell_type": "markdown",
   "metadata": {},
   "source": [
    "1\\. Take a look at the [numba 5 min tour](http://numba.pydata.org/numba-doc/latest/user/5minguide.html), and accelerate the total variation code from session 2 with the `@jit` decorator. You may have to rewrite small portions of your code to get the expected acceleration (see [performance tips](http://numba.pydata.org/numba-doc/latest/user/performance-tips.html))."
   ]
  },
  {
   "cell_type": "markdown",
   "metadata": {},
   "source": [
    "**Answer:**"
   ]
  },
  {
   "cell_type": "code",
   "execution_count": null,
   "metadata": {},
   "outputs": [],
   "source": [
    "from numba import njit"
   ]
  },
  {
   "cell_type": "markdown",
   "metadata": {},
   "source": [
    "Comparison for Knn : "
   ]
  },
  {
   "cell_type": "code",
   "execution_count": null,
   "metadata": {},
   "outputs": [],
   "source": [
    "import numba\n",
    "\n",
    "\n",
    "### We put the predict and classifier functions in one function\n",
    "@njit\n",
    "def predict_K_nearest_neighbors_with_numba(x_train:np.ndarray,y_train:np.ndarray, x_test:np.ndarray, K:int):\n",
    "    N_test = test.shape[0]\n",
    "    N_train = x_train.shape[0]\n",
    "    predictions = np.zeros(N_test, dtype=float)\n",
    "    for i in range(N_test):   \n",
    "        distances = []\n",
    "        targets = []\n",
    "        counter1 = 0\n",
    "        counter2 = 0\n",
    "        for j in range(N_train):\n",
    "            # separation in two different list to help numba\n",
    "            distances.append(np.linalg.norm(x_test[i]-x_train[j]))\n",
    "            targets.append(y_train[j])\n",
    "        distances=np.array(distances,dtype=np.float64)\n",
    "        idx_sort = np.argsort(distances)\n",
    "        for k in range(0,K):\n",
    "            if targets[idx_sort[k]]==1.:\n",
    "                counter1+=1\n",
    "            if targets[idx_sort[k]]==2.:\n",
    "                counter2+=1\n",
    "            if counter1+counter2==K:\n",
    "                break\n",
    "        if counter1>counter2:\n",
    "            predictions[i] = 1.\n",
    "        else:\n",
    "            predictions[i] = 2.\n",
    "    return predictions\n",
    "\n",
    "\n",
    "def predict_K_nearest_neighbors(x_train:np.ndarray,y_train:np.ndarray, x_test:np.ndarray, K:int):\n",
    "    N_test = test.shape[0]\n",
    "    N_train = x_train.shape[0]\n",
    "    predictions = np.zeros(N_test, dtype=float)\n",
    "    for i in range(N_test):   \n",
    "        distances = []\n",
    "        targets = []\n",
    "        counter1 = 0\n",
    "        counter2 = 0\n",
    "        for j in range(N_train):\n",
    "            # separation in two different list to help numba\n",
    "            distances.append(np.linalg.norm(x_test[i]-x_train[j]))\n",
    "            targets.append(y_train[j])\n",
    "        distances=np.array(distances,dtype=np.float64)\n",
    "        idx_sort = np.argsort(distances)\n",
    "        for k in range(0,K):\n",
    "            if targets[idx_sort[k]]==1.:\n",
    "                counter1+=1\n",
    "            if targets[idx_sort[k]]==2.:\n",
    "                counter2+=1\n",
    "            if counter1+counter2==K:\n",
    "                break\n",
    "        if counter1>counter2:\n",
    "            predictions[i] = 1.\n",
    "        else:\n",
    "            predictions[i] = 2.\n",
    "    return predictions"
   ]
  },
  {
   "cell_type": "code",
   "execution_count": null,
   "metadata": {},
   "outputs": [],
   "source": [
    "_ = predict_K_nearest_neighbors_with_numba(train[:,1:], train[:,0], test[:,1:], 3)"
   ]
  },
  {
   "cell_type": "code",
   "execution_count": null,
   "metadata": {},
   "outputs": [],
   "source": [
    "loop = 10\n",
    "execution_time = timeit.timeit(lambda: predict_K_nearest_neighbors(train[:,1:], train[:,0], test[:,1:], 3), number=loop) / loop\n",
    "\n",
    "execution_time_numba = timeit.timeit(lambda: predict_K_nearest_neighbors_with_numba(train[:,1:], train[:,0], test[:,1:], 3), number=loop) / loop\n",
    "\n",
    "print(execution_time/execution_time_numba)"
   ]
  },
  {
   "cell_type": "markdown",
   "metadata": {},
   "source": [
    "This implementation is 10 time faster with numba."
   ]
  },
  {
   "cell_type": "markdown",
   "metadata": {},
   "source": [
    "Comparison for Total variation :"
   ]
  },
  {
   "cell_type": "code",
   "execution_count": null,
   "metadata": {},
   "outputs": [],
   "source": [
    "from numba import jit\n",
    "\n",
    "def gradient2D(X:np.array)->tuple:\n",
    "    \"\"\"This function computes the 2D discrete gradient operator D applied to a matrix X of dimensions 2\n",
    "\n",
    "    Args:\n",
    "        X (array): A matrix in C^(M,N)\n",
    "\n",
    "    Returns:\n",
    "        (array,array) : A tuple in C^(M,N) x C^(M,N)\n",
    "    \"\"\"\n",
    "    assert X.ndim <=2, \"The input array has more than 2 dimensions\"\n",
    "\n",
    "    XDh = np.zeros(X.shape)\n",
    "    for n in range(1,XDh.shape[1]):\n",
    "        XDh[:,n-1] = X[:,n]-X[:,n-1]\n",
    "\n",
    "    DvX = np.zeros(X.shape)\n",
    "    for m in range(1,XDh.shape[0]):\n",
    "        DvX[m-1,:] = X[m,:]-X[m-1,:]\n",
    "\n",
    "\n",
    "    return XDh, DvX\n",
    "\n",
    "def tv(X:np.array)->float:\n",
    "    \"\"\"This function compute the discrete isotropic total variation of an input matrix in C^(M,N)\n",
    "\n",
    "    Args:\n",
    "        X (np.array): A matrix in C^(MxN)\n",
    "\n",
    "    Returns:\n",
    "        float: returns the value of the TV for the input matrix X\n",
    "    \"\"\"\n",
    "    XDh, DvX = gradient2D(X)\n",
    "    sum = 0\n",
    "    for m in range(XDh.shape[0]):\n",
    "        for n in range(XDh.shape[1]):\n",
    "            sum+= np.sqrt(XDh[m,n]**2 + DvX[m,n]**2)\n",
    "    return sum\n",
    "\n",
    "\n",
    "@njit\n",
    "def gradient2D_numba(X:np.array)->tuple:\n",
    "    \"\"\"This function computes the 2D discrete gradient operator D applied to a matrix X of dimensions 2\n",
    "\n",
    "    Args:\n",
    "        X (array): A matrix in C^(M,N)\n",
    "\n",
    "    Returns:\n",
    "        (array,array) : A tuple in C^(M,N) x C^(M,N)\n",
    "    \"\"\"\n",
    "    assert X.ndim <=2, \"The input array has more than 2 dimensions\"\n",
    "\n",
    "    XDh = np.zeros(X.shape)\n",
    "    for n in range(1,XDh.shape[1]):\n",
    "        XDh[:,n-1] = X[:,n]-X[:,n-1]\n",
    "\n",
    "    DvX = np.zeros(X.shape)\n",
    "    for m in range(1,XDh.shape[0]):\n",
    "        DvX[m-1,:] = X[m,:]-X[m-1,:]\n",
    "\n",
    "\n",
    "    return XDh, DvX\n",
    "\n",
    "@njit\n",
    "def tv_numba(X:np.array)->float:\n",
    "    \"\"\"This function compute the discrete isotropic total variation of an input matrix in C^(M,N)\n",
    "\n",
    "    Args:\n",
    "        X (np.array): A matrix in C^(MxN)\n",
    "\n",
    "    Returns:\n",
    "        float: returns the value of the TV for the input matrix X\n",
    "    \"\"\"\n",
    "    XDh, DvX = gradient2D_numba(X)\n",
    "    sum = 0\n",
    "    for m in range(XDh.shape[0]):\n",
    "        for n in range(XDh.shape[1]):\n",
    "            sum+= np.sqrt(XDh[m,n]**2 + DvX[m,n]**2)\n",
    "    return sum"
   ]
  },
  {
   "cell_type": "markdown",
   "metadata": {},
   "source": [
    "2\\. Compare the runtime of the your numpy implementation and the `numba`-accelerated version (using `timeit.timeit`). \n",
    "> **Warning**: first run the numba version once to trigger the compilation, and then time it as usual. This is needed to avoid including the JIT compilation step in the runtime."
   ]
  },
  {
   "cell_type": "markdown",
   "metadata": {},
   "source": [
    "**Answer:**"
   ]
  },
  {
   "cell_type": "code",
   "execution_count": null,
   "metadata": {},
   "outputs": [],
   "source": [
    "loop = 100\n",
    "rng = np.random.default_rng(84548)\n",
    "M,N = rng.integers(low=50, high=100, size = 2)\n",
    "X = rng.random((M,N))\n",
    "tv_numba(X)"
   ]
  },
  {
   "cell_type": "code",
   "execution_count": null,
   "metadata": {},
   "outputs": [],
   "source": [
    "loop = 100\n",
    "rng = np.random.default_rng(84548)\n",
    "M,N = rng.integers(low=50, high=100, size = 2)\n",
    "X = rng.random((M,N))\n",
    "\n",
    "execution_time = timeit.timeit(lambda: tv(X), number=loop) / loop\n",
    "\n",
    "execution_time_numba = timeit.timeit(lambda: tv_numba(X), number=loop) / loop\n",
    "\n",
    "print(execution_time/execution_time_numba)"
   ]
  },
  {
   "cell_type": "markdown",
   "metadata": {},
   "source": [
    "The implementation with numba is 230 time faster which is really better than for Knn classifier. For this implementation we really see the advantages of numba."
   ]
  }
 ],
 "metadata": {
  "file_extension": ".py",
  "kernelspec": {
   "display_name": "Python 3.10.4 64-bit",
   "language": "python",
   "name": "python3"
  },
  "language_info": {
   "codemirror_mode": {
    "name": "ipython",
    "version": 3
   },
   "file_extension": ".py",
   "mimetype": "text/x-python",
   "name": "python",
   "nbconvert_exporter": "python",
   "pygments_lexer": "ipython3",
   "version": "3.10.4"
  },
  "mimetype": "text/x-python",
  "name": "python",
  "npconvert_exporter": "python",
  "pygments_lexer": "ipython3",
  "version": 3,
  "vscode": {
   "interpreter": {
    "hash": "3e86c5fcaeb7504a0c486c54f5e7f20bce8324b88f64f392f8b6244d9f0e8929"
   }
  }
 },
 "nbformat": 4,
 "nbformat_minor": 4
}
